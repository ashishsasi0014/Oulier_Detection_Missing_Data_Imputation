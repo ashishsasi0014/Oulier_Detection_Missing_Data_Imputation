{
 "cells": [
  {
   "cell_type": "markdown",
   "metadata": {},
   "source": [
    "<p>\n",
    "\n",
    "# FIT5196 Assessment 2\n",
    "#### Student Name: Ashish Sasi\n",
    "#### Student ID: 29376130\n",
    "\n",
    "\n",
    "\n",
    "Version: 1.0\n",
    "\n",
    "Environment: Python 3.6.0 and Anaconda 4.3.0 (64-bit)\n",
    "\n",
    "Libraries used:\n",
    "\n",
    "* pandas - For data manipulation\n",
    "* sklearn - For linear models\n",
    "* matplotlib - For plotting graphs\n",
    "* nltk - For sentiment analysis\n",
    "* numpy - For mathematical and matrix operation\n",
    "* yellowbrick - For Cook's distance and Residual plot\n",
    "\n",
    "</p>"
   ]
  },
  {
   "cell_type": "code",
   "execution_count": 1,
   "metadata": {
    "tags": []
   },
   "outputs": [],
   "source": [
    "from sklearn.linear_model import LinearRegression\n",
    "from yellowbrick.regressor import ResidualsPlot\n",
    "from yellowbrick.regressor import CooksDistance\n",
    "from itertools import chain\n",
    "import pandas as pd\n",
    "from nltk.sentiment.vader import SentimentIntensityAnalyzer\n",
    "import numpy as np\n",
    "from sklearn.linear_model import LinearRegression\n",
    "import matplotlib.pyplot as plt\n",
    "%matplotlib inline"
   ]
  },
  {
   "cell_type": "markdown",
   "metadata": {},
   "source": [
    "## Table of Contents\n",
    "\n",
    "1. [Introduction](#sec_1)\n",
    "2. [Methodology - Dirty Data](#sec_2)\n",
    "3. [Methodology - Missing Data](#sec_3)\n",
    "4. [Methodology - Outlier Data](#sec_4)\n",
    "5. [Summary](#sec_5)\n",
    "6. [References](#sec_8)"
   ]
  },
  {
   "cell_type": "markdown",
   "metadata": {},
   "source": [
    "<p>\n",
    "\n",
    "# 1. Introduction<a class=\"anchor\" id=\"sec_1\"></a>\n",
    "\n",
    "We have been given with three files. The files contain:\n",
    "   * Dirty data\n",
    "   * Outlier data\n",
    "   * Missing data\n",
    "\n",
    "These dataset revolve around orders placed from an online electronics store in Melbourne. Each data set contains <b>500 rows and 16 attributes</b>. Each row represent an order.\n",
    "\n",
    "Our tasks in as follows:\n",
    "* Read & Process all the data.\n",
    "* Clean the dirty data in dirty data\n",
    "* Find missing values in missing data.\n",
    "* Find outliers w.r.t 'delivery_charges' in ourliers data.\n",
    "\n",
    "More details for each task will be given in the following sections.\n",
    "\n",
    "Before we start looking at each attribute individually, we can have a cursory look at the entire dataset, to make sure nothing is out of the ordinary. Following this will be checked at this stage:\n",
    "\n",
    "* Types of variable\n",
    "* Brief statistical descriptions of the variables\n",
    "</p>"
   ]
  },
  {
   "cell_type": "code",
   "execution_count": 2,
   "metadata": {},
   "outputs": [],
   "source": [
    "df_dirty_data = pd.read_csv('30539676_dirty_data.csv')\n",
    "df_missing_data = pd.read_csv('30539676_missing_data.csv')\n",
    "df_outlier_data = pd.read_csv('30539676_outlier_data.csv')\n",
    "warehouse_loc = pd.read_csv('warehouses.csv')"
   ]
  },
  {
   "cell_type": "code",
   "execution_count": 3,
   "metadata": {},
   "outputs": [
    {
     "data": {
      "text/plain": [
       "(500, 16)"
      ]
     },
     "execution_count": 3,
     "metadata": {},
     "output_type": "execute_result"
    }
   ],
   "source": [
    "df_dirty_data.shape"
   ]
  },
  {
   "cell_type": "code",
   "execution_count": 4,
   "metadata": {
    "scrolled": false
   },
   "outputs": [
    {
     "data": {
      "text/html": [
       "<div>\n",
       "<style scoped>\n",
       "    .dataframe tbody tr th:only-of-type {\n",
       "        vertical-align: middle;\n",
       "    }\n",
       "\n",
       "    .dataframe tbody tr th {\n",
       "        vertical-align: top;\n",
       "    }\n",
       "\n",
       "    .dataframe thead th {\n",
       "        text-align: right;\n",
       "    }\n",
       "</style>\n",
       "<table border=\"1\" class=\"dataframe\">\n",
       "  <thead>\n",
       "    <tr style=\"text-align: right;\">\n",
       "      <th></th>\n",
       "      <th>order_price</th>\n",
       "      <th>delivery_charges</th>\n",
       "      <th>customer_lat</th>\n",
       "      <th>customer_long</th>\n",
       "      <th>coupon_discount</th>\n",
       "      <th>order_total</th>\n",
       "      <th>distance_to_nearest_warehouse</th>\n",
       "    </tr>\n",
       "  </thead>\n",
       "  <tbody>\n",
       "    <tr>\n",
       "      <th>count</th>\n",
       "      <td>500.00000</td>\n",
       "      <td>500.000000</td>\n",
       "      <td>500.000000</td>\n",
       "      <td>500.000000</td>\n",
       "      <td>500.000000</td>\n",
       "      <td>500.00000</td>\n",
       "      <td>500.000000</td>\n",
       "    </tr>\n",
       "    <tr>\n",
       "      <th>mean</th>\n",
       "      <td>14340.55000</td>\n",
       "      <td>76.938340</td>\n",
       "      <td>-27.942060</td>\n",
       "      <td>135.095884</td>\n",
       "      <td>10.950000</td>\n",
       "      <td>12882.40174</td>\n",
       "      <td>1.098041</td>\n",
       "    </tr>\n",
       "    <tr>\n",
       "      <th>std</th>\n",
       "      <td>8098.07425</td>\n",
       "      <td>13.908523</td>\n",
       "      <td>41.353517</td>\n",
       "      <td>41.353177</td>\n",
       "      <td>8.933483</td>\n",
       "      <td>7297.50148</td>\n",
       "      <td>0.492837</td>\n",
       "    </tr>\n",
       "    <tr>\n",
       "      <th>min</th>\n",
       "      <td>1010.00000</td>\n",
       "      <td>47.270000</td>\n",
       "      <td>-37.827738</td>\n",
       "      <td>-37.829985</td>\n",
       "      <td>0.000000</td>\n",
       "      <td>832.39000</td>\n",
       "      <td>0.026500</td>\n",
       "    </tr>\n",
       "    <tr>\n",
       "      <th>25%</th>\n",
       "      <td>8046.25000</td>\n",
       "      <td>66.100000</td>\n",
       "      <td>-37.818686</td>\n",
       "      <td>144.949407</td>\n",
       "      <td>5.000000</td>\n",
       "      <td>7274.95500</td>\n",
       "      <td>0.771500</td>\n",
       "    </tr>\n",
       "    <tr>\n",
       "      <th>50%</th>\n",
       "      <td>12980.00000</td>\n",
       "      <td>76.415000</td>\n",
       "      <td>-37.811829</td>\n",
       "      <td>144.962689</td>\n",
       "      <td>10.000000</td>\n",
       "      <td>11511.79500</td>\n",
       "      <td>1.058250</td>\n",
       "    </tr>\n",
       "    <tr>\n",
       "      <th>75%</th>\n",
       "      <td>19683.75000</td>\n",
       "      <td>84.062500</td>\n",
       "      <td>-37.804443</td>\n",
       "      <td>144.976857</td>\n",
       "      <td>15.000000</td>\n",
       "      <td>17357.58250</td>\n",
       "      <td>1.370650</td>\n",
       "    </tr>\n",
       "    <tr>\n",
       "      <th>max</th>\n",
       "      <td>43610.00000</td>\n",
       "      <td>111.850000</td>\n",
       "      <td>145.014854</td>\n",
       "      <td>145.018208</td>\n",
       "      <td>25.000000</td>\n",
       "      <td>41516.93000</td>\n",
       "      <td>2.721400</td>\n",
       "    </tr>\n",
       "  </tbody>\n",
       "</table>\n",
       "</div>"
      ],
      "text/plain": [
       "       order_price  delivery_charges  customer_lat  customer_long  \\\n",
       "count    500.00000        500.000000    500.000000     500.000000   \n",
       "mean   14340.55000         76.938340    -27.942060     135.095884   \n",
       "std     8098.07425         13.908523     41.353517      41.353177   \n",
       "min     1010.00000         47.270000    -37.827738     -37.829985   \n",
       "25%     8046.25000         66.100000    -37.818686     144.949407   \n",
       "50%    12980.00000         76.415000    -37.811829     144.962689   \n",
       "75%    19683.75000         84.062500    -37.804443     144.976857   \n",
       "max    43610.00000        111.850000    145.014854     145.018208   \n",
       "\n",
       "       coupon_discount  order_total  distance_to_nearest_warehouse  \n",
       "count       500.000000    500.00000                     500.000000  \n",
       "mean         10.950000  12882.40174                       1.098041  \n",
       "std           8.933483   7297.50148                       0.492837  \n",
       "min           0.000000    832.39000                       0.026500  \n",
       "25%           5.000000   7274.95500                       0.771500  \n",
       "50%          10.000000  11511.79500                       1.058250  \n",
       "75%          15.000000  17357.58250                       1.370650  \n",
       "max          25.000000  41516.93000                       2.721400  "
      ]
     },
     "execution_count": 4,
     "metadata": {},
     "output_type": "execute_result"
    }
   ],
   "source": [
    "df_dirty_data.describe()"
   ]
  },
  {
   "cell_type": "code",
   "execution_count": 5,
   "metadata": {},
   "outputs": [
    {
     "data": {
      "text/html": [
       "<div>\n",
       "<style scoped>\n",
       "    .dataframe tbody tr th:only-of-type {\n",
       "        vertical-align: middle;\n",
       "    }\n",
       "\n",
       "    .dataframe tbody tr th {\n",
       "        vertical-align: top;\n",
       "    }\n",
       "\n",
       "    .dataframe thead th {\n",
       "        text-align: right;\n",
       "    }\n",
       "</style>\n",
       "<table border=\"1\" class=\"dataframe\">\n",
       "  <thead>\n",
       "    <tr style=\"text-align: right;\">\n",
       "      <th></th>\n",
       "      <th>order_id</th>\n",
       "      <th>customer_id</th>\n",
       "      <th>date</th>\n",
       "      <th>nearest_warehouse</th>\n",
       "      <th>shopping_cart</th>\n",
       "      <th>season</th>\n",
       "      <th>latest_customer_review</th>\n",
       "    </tr>\n",
       "  </thead>\n",
       "  <tbody>\n",
       "    <tr>\n",
       "      <th>count</th>\n",
       "      <td>500</td>\n",
       "      <td>500</td>\n",
       "      <td>500</td>\n",
       "      <td>500</td>\n",
       "      <td>500</td>\n",
       "      <td>500</td>\n",
       "      <td>500</td>\n",
       "    </tr>\n",
       "    <tr>\n",
       "      <th>unique</th>\n",
       "      <td>500</td>\n",
       "      <td>493</td>\n",
       "      <td>296</td>\n",
       "      <td>6</td>\n",
       "      <td>468</td>\n",
       "      <td>8</td>\n",
       "      <td>500</td>\n",
       "    </tr>\n",
       "    <tr>\n",
       "      <th>top</th>\n",
       "      <td>ORD303189</td>\n",
       "      <td>ID4297530201</td>\n",
       "      <td>2019-07-11</td>\n",
       "      <td>Thompson</td>\n",
       "      <td>[('iStream', 2), ('Toshika 750', 2)]</td>\n",
       "      <td>Autumn</td>\n",
       "      <td>good phone!! great 200 dollar phone. works wit...</td>\n",
       "    </tr>\n",
       "    <tr>\n",
       "      <th>freq</th>\n",
       "      <td>1</td>\n",
       "      <td>2</td>\n",
       "      <td>6</td>\n",
       "      <td>201</td>\n",
       "      <td>4</td>\n",
       "      <td>126</td>\n",
       "      <td>1</td>\n",
       "    </tr>\n",
       "  </tbody>\n",
       "</table>\n",
       "</div>"
      ],
      "text/plain": [
       "         order_id   customer_id        date nearest_warehouse  \\\n",
       "count         500           500         500               500   \n",
       "unique        500           493         296                 6   \n",
       "top     ORD303189  ID4297530201  2019-07-11          Thompson   \n",
       "freq            1             2           6               201   \n",
       "\n",
       "                               shopping_cart  season  \\\n",
       "count                                    500     500   \n",
       "unique                                   468       8   \n",
       "top     [('iStream', 2), ('Toshika 750', 2)]  Autumn   \n",
       "freq                                       4     126   \n",
       "\n",
       "                                   latest_customer_review  \n",
       "count                                                 500  \n",
       "unique                                                500  \n",
       "top     good phone!! great 200 dollar phone. works wit...  \n",
       "freq                                                    1  "
      ]
     },
     "execution_count": 5,
     "metadata": {},
     "output_type": "execute_result"
    }
   ],
   "source": [
    "df_dirty_data.describe(include=['O'])"
   ]
  },
  {
   "cell_type": "markdown",
   "metadata": {},
   "source": [
    "<p>\n",
    "Initial Observation:\n",
    "    \n",
    "1. Warehouse have 6 unique values, there should only be 3.\n",
    "2. Season also has 8 unique values, again there should only be 4.\n",
    "3. Numerical Attributes-\n",
    "    * order_price                      \n",
    "    * delivery_charges                \n",
    "    * customer_lat                     \n",
    "    * customer_long                    \n",
    "    * coupon_discount                  \n",
    "    * order_total\n",
    "4. Categorical Attributes-\n",
    "    * order_id                         \n",
    "    * customer_id                      \n",
    "    * date                             \n",
    "    * nearest_warehouse                \n",
    "    * shopping_cart  \n",
    "\n",
    "\n",
    "</p>"
   ]
  },
  {
   "cell_type": "markdown",
   "metadata": {},
   "source": [
    "# 2. Methodology - Dirty Data<a class=\"anchor\" id=\"sec_2\"></a>\n",
    "<p>\n",
    "    \n",
    "We will be clearing the dirty data column by column. Each column will be explored to find the anaomly and then fixed.   \n",
    "Based on my working we have 3 main types of data anamolies:\n",
    "    * Syntactic\n",
    "    * Semantic\n",
    "    * Coverage\n",
    "\n",
    "As per the document specification, the following columns have no errors:\n",
    "    * delivery_charges\n",
    "    * coupon_discount\n",
    "    * The ordered quantity values in the shopping_cart attribute\n",
    "\n",
    "A brief descriptions of each erros found per column can be found below:\n",
    "    \n",
    "* <b>Date</b>:\n",
    "    * Anomaly Type: Syntactic\n",
    "    * there are 3 different formats within this column. As per the spec only the format 'yyyy-mm-dd' is considered valid.\n",
    "* <b>Nearest_warehouse</b> :\n",
    "    * Anomaly Type: Semantic\n",
    "    * The nearest warehouse calculated according the given customer latitude and longitude.\n",
    "* <b>Shopping_cart</b> : \n",
    "    * Anomaly Type: Semantic\n",
    "    * We need to confirm that for all orders placed, the total number of unique producst are 10. This was indeed the case, hence no errors in this column.\n",
    "* <b>Order_Price</b> : \n",
    "    * Anomaly Type: Semantic\n",
    "    * We need to confirm if the total price of all the products in the shopping_cart column for a row, adds upto the price listed in order_price.\n",
    "* <b>Customer Latititude and Longitude</b> :\n",
    "    * Anomaly Type: Syntactic\n",
    "    * Confirm weather the given coordinates are correct or not.\n",
    "* <b>Order_total</b> :\n",
    "    * Anomaly Type: Semantic\n",
    "    * The total price of the order, the order_total should come out to be (order_price+deliver_charges)Xcoupon_discount.\n",
    "* <b>Season</b> :\n",
    "    * Anomaly Type: Semantic\n",
    "    * We will be confirming if the season is indeed correct according to the date recorded and the given specification for months to season. \n",
    "* <b>Distance_to_nearest_warehouse</b> :\n",
    "    * Anomaly Type: Semantic\n",
    "    * The nearest warehouse calculated according the given customer latitude and longitude.\n",
    "* <b>latest_customer_review</b> :\n",
    "    * Anomaly Type: Semantic \n",
    "    * We can't clean the data since, every user will have a different way of writing. At max we can get all reviews in the same capitalization.\n",
    "* <b>is_happy_customer</b> :\n",
    "    * Anomaly Type: Semantic\n",
    "    * based on the polarity scored returned after doing a sentiment analysis on the customer review, we will be checking if the value for this column is indeed correct.\n",
    "\n",
    "After the correction of each type of data anamoly I check again to make sure the changed made have actually taken effect.\n",
    "\n",
    "\n",
    "</p>"
   ]
  },
  {
   "cell_type": "markdown",
   "metadata": {},
   "source": [
    "## Dates - Syntactical Anomaly"
   ]
  },
  {
   "cell_type": "markdown",
   "metadata": {},
   "source": [
    "<p>\n",
    "\n",
    "As per our specification the correct format of the date in which it should have been recorded is 'yyyy-mm-dd', however it seems that such is not the case for all dates. I have been able to identify 3 different dates format, which are :\n",
    "\n",
    "    * YYYY-MM-DD\n",
    "    * YYYY-DD-MM\n",
    "    * DD-MM-YYYY\n",
    "\n",
    "We will be using the .to_datetime() function to convert these 3 date format back to our desired format. \n",
    "\n",
    "We will first create a temporary column were are newly formated dates will be kept and then the column will be renamed accordingly.\n",
    "</p>"
   ]
  },
  {
   "cell_type": "code",
   "execution_count": 6,
   "metadata": {},
   "outputs": [],
   "source": [
    "# https://stackoverflow.com/questions/51822956/change-dd-mm-yyyy-date-format-of-dataframe-date-column-to-yyyy-mm-dd\n",
    "#Convert all date value to the default yyyy-mm-dd format\n",
    "df_dirty_data['Formated_date'] = pd.to_datetime(df_dirty_data['date'], format='%Y-%m-%d',errors='coerce')\n",
    "#Create a mask for all dates not correctly formated\n",
    "mask = df_dirty_data.Formated_date.isnull()\n",
    "#Convert all dates that are in yyyy-dd-mm format\n",
    "df_dirty_data.loc[mask,'Formated_date'] = pd.to_datetime(df_dirty_data[mask]['date'], format='%Y-%d-%m',errors='coerce')\n",
    "#Create a mask for all dates not correctly formated\n",
    "mask = df_dirty_data.Formated_date.isnull()\n",
    "#Convert all dates that are in dd-mm-yyyy format\n",
    "df_dirty_data.loc[mask,'Formated_date'] = pd.to_datetime(df_dirty_data[mask]['date'], format='%d-%m-%Y',errors='coerce')"
   ]
  },
  {
   "cell_type": "code",
   "execution_count": 7,
   "metadata": {
    "scrolled": true
   },
   "outputs": [
    {
     "data": {
      "text/html": [
       "<div>\n",
       "<style scoped>\n",
       "    .dataframe tbody tr th:only-of-type {\n",
       "        vertical-align: middle;\n",
       "    }\n",
       "\n",
       "    .dataframe tbody tr th {\n",
       "        vertical-align: top;\n",
       "    }\n",
       "\n",
       "    .dataframe thead th {\n",
       "        text-align: right;\n",
       "    }\n",
       "</style>\n",
       "<table border=\"1\" class=\"dataframe\">\n",
       "  <thead>\n",
       "    <tr style=\"text-align: right;\">\n",
       "      <th></th>\n",
       "      <th>Formated_date</th>\n",
       "      <th>date</th>\n",
       "    </tr>\n",
       "  </thead>\n",
       "  <tbody>\n",
       "    <tr>\n",
       "      <th>0</th>\n",
       "      <td>2019-07-18</td>\n",
       "      <td>2019-07-18</td>\n",
       "    </tr>\n",
       "    <tr>\n",
       "      <th>1</th>\n",
       "      <td>2019-05-20</td>\n",
       "      <td>2019-05-20</td>\n",
       "    </tr>\n",
       "    <tr>\n",
       "      <th>2</th>\n",
       "      <td>2019-06-15</td>\n",
       "      <td>2019-06-15</td>\n",
       "    </tr>\n",
       "    <tr>\n",
       "      <th>3</th>\n",
       "      <td>2019-04-24</td>\n",
       "      <td>2019-04-24</td>\n",
       "    </tr>\n",
       "    <tr>\n",
       "      <th>4</th>\n",
       "      <td>2019-11-04</td>\n",
       "      <td>2019-11-04</td>\n",
       "    </tr>\n",
       "    <tr>\n",
       "      <th>...</th>\n",
       "      <td>...</td>\n",
       "      <td>...</td>\n",
       "    </tr>\n",
       "    <tr>\n",
       "      <th>95</th>\n",
       "      <td>2019-03-29</td>\n",
       "      <td>2019-03-29</td>\n",
       "    </tr>\n",
       "    <tr>\n",
       "      <th>96</th>\n",
       "      <td>2019-10-19</td>\n",
       "      <td>2019-10-19</td>\n",
       "    </tr>\n",
       "    <tr>\n",
       "      <th>97</th>\n",
       "      <td>2019-07-08</td>\n",
       "      <td>2019-07-08</td>\n",
       "    </tr>\n",
       "    <tr>\n",
       "      <th>98</th>\n",
       "      <td>2019-10-21</td>\n",
       "      <td>2019-10-21</td>\n",
       "    </tr>\n",
       "    <tr>\n",
       "      <th>99</th>\n",
       "      <td>2019-09-16</td>\n",
       "      <td>2019-09-16</td>\n",
       "    </tr>\n",
       "  </tbody>\n",
       "</table>\n",
       "<p>100 rows × 2 columns</p>\n",
       "</div>"
      ],
      "text/plain": [
       "   Formated_date        date\n",
       "0     2019-07-18  2019-07-18\n",
       "1     2019-05-20  2019-05-20\n",
       "2     2019-06-15  2019-06-15\n",
       "3     2019-04-24  2019-04-24\n",
       "4     2019-11-04  2019-11-04\n",
       "..           ...         ...\n",
       "95    2019-03-29  2019-03-29\n",
       "96    2019-10-19  2019-10-19\n",
       "97    2019-07-08  2019-07-08\n",
       "98    2019-10-21  2019-10-21\n",
       "99    2019-09-16  2019-09-16\n",
       "\n",
       "[100 rows x 2 columns]"
      ]
     },
     "execution_count": 7,
     "metadata": {},
     "output_type": "execute_result"
    }
   ],
   "source": [
    "df_dirty_data[['Formated_date','date']].head(100)"
   ]
  },
  {
   "cell_type": "code",
   "execution_count": 8,
   "metadata": {},
   "outputs": [],
   "source": [
    "# #Drop the column and rename the column\n",
    "del df_dirty_data['date']\n",
    "df_dirty_data.rename(columns={'Formated_date':'date'},inplace=True)"
   ]
  },
  {
   "cell_type": "markdown",
   "metadata": {},
   "source": [
    "## Nearest Warehouse - Lexical Error"
   ]
  },
  {
   "cell_type": "markdown",
   "metadata": {},
   "source": [
    "<p>\n",
    "From our initial observation we know that there are 3 more values than required in this column, on doing a value_count() on the column below we see that for few of the rows the value recorded are in small-caps. <br>\n",
    "While this is probably a small mistake while recording, this inconsistent capitalization might give us a problem later down the road. \n",
    "    \n",
    "Based on the count of values, i have decided the replace the all-small capitalized version with their marjoirty format.\n",
    "\n",
    "</p>"
   ]
  },
  {
   "cell_type": "code",
   "execution_count": 9,
   "metadata": {},
   "outputs": [
    {
     "data": {
      "text/plain": [
       "<matplotlib.axes._subplots.AxesSubplot at 0x1db5cf34588>"
      ]
     },
     "execution_count": 9,
     "metadata": {},
     "output_type": "execute_result"
    },
    {
     "data": {
      "image/png": "[encoded data removed]",
      "text/plain": [
       "<Figure size 432x288 with 1 Axes>"
      ]
     },
     "metadata": {
      "needs_background": "light"
     },
     "output_type": "display_data"
    }
   ],
   "source": [
    "df_dirty_data['nearest_warehouse'].hist()"
   ]
  },
  {
   "cell_type": "code",
   "execution_count": 10,
   "metadata": {
    "scrolled": true
   },
   "outputs": [
    {
     "data": {
      "text/plain": [
       "Thompson     201\n",
       "Nickolson    182\n",
       "Bakers        98\n",
       "nickolson      8\n",
       "thompson       7\n",
       "bakers         4\n",
       "Name: nearest_warehouse, dtype: int64"
      ]
     },
     "execution_count": 10,
     "metadata": {},
     "output_type": "execute_result"
    }
   ],
   "source": [
    "#Checking for unique counts\n",
    "df_dirty_data.nearest_warehouse.value_counts()"
   ]
  },
  {
   "cell_type": "code",
   "execution_count": 11,
   "metadata": {},
   "outputs": [
    {
     "data": {
      "text/plain": [
       "Thompson     208\n",
       "Nickolson    190\n",
       "Bakers       102\n",
       "Name: nearest_warehouse, dtype: int64"
      ]
     },
     "execution_count": 11,
     "metadata": {},
     "output_type": "execute_result"
    }
   ],
   "source": [
    "# Correcting the spellings for nearest_warehouse\n",
    "df_dirty_data.nearest_warehouse.replace({\"thompson\": \"Thompson\", \"bakers\": \"Bakers\", \"nickolson\":\"Nickolson\"}, inplace=True)\n",
    "df_dirty_data.nearest_warehouse.value_counts()"
   ]
  },
  {
   "cell_type": "markdown",
   "metadata": {},
   "source": [
    "# Shopping cart"
   ]
  },
  {
   "cell_type": "markdown",
   "metadata": {},
   "source": [
    "<p>\n",
    "As per the assignment specification the counts given along iwth the items are correct. However the items themselves may be wrong. It is also mentioned that the store sells at max 10 unique items. By iterating over the column and collecting all the items and then taking the set of the generated list. We can see all the unique products sold by the company.\n",
    "    \n",
    "We also create another column where we convert the given string containing the values of the shopping cart into a python dictionary.\n",
    "</p>"
   ]
  },
  {
   "cell_type": "code",
   "execution_count": 12,
   "metadata": {},
   "outputs": [],
   "source": [
    "#Converting the value in the column to a dictionary for easier manipulation later on\n",
    "df_dirty_data['shopping_cart_dict'] = df_dirty_data['shopping_cart'].apply(lambda x:dict(eval(x)))"
   ]
  },
  {
   "cell_type": "code",
   "execution_count": 13,
   "metadata": {
    "scrolled": true
   },
   "outputs": [
    {
     "name": "stdout",
     "output_type": "stream",
     "text": [
      "{'Candle Inferno', 'Lucent 330S', 'Alcon 10', 'iStream', 'Thunder line', 'Olivia x460', 'pearTV', 'iAssist Line', 'Toshika 750', 'Universe Note'}\n"
     ]
    }
   ],
   "source": [
    "collected_items = []\n",
    "df_dirty_data['shopping_cart_dict'].apply(lambda x:collected_items.append(list(x.keys())))\n",
    "#We can see only 10 unique variables as per the specification\n",
    "print(set(list(chain.from_iterable(collected_items))))"
   ]
  },
  {
   "cell_type": "markdown",
   "metadata": {},
   "source": [
    "<p>\n",
    "From the above query we can see that there are only 10 unique items sold by the store. This is in line with what has been told to us in the specification. The unique items are:\n",
    "    \n",
    "* Universe Note\n",
    "* Toshika 750\n",
    "* Candle Inferno\n",
    "* iAssist Line\n",
    "* pearTV\n",
    "* Thunder line\n",
    "* Lucent 330S\n",
    "* iStream\n",
    "* Olivia x460\n",
    "* Alcon 10\n",
    "\n",
    "</p>"
   ]
  },
  {
   "cell_type": "markdown",
   "metadata": {},
   "source": [
    "## Order price - Semantic Error"
   ]
  },
  {
   "cell_type": "markdown",
   "metadata": {},
   "source": [
    "<p>\n",
    "Finding data anamoly wihtin order_price column is indeed difficult. The only column which directly effects order_price is shopping cart, unfortunately the price per product is not given. \n",
    "    \n",
    "If we can calculate the price per product, then we can calculate the value for the shopping cart and comapre it with the recorded value.\n",
    "\n",
    "<u>To calculate the price per product form the given data, we can take out 10 rows, where each unique product atleast appears once. Based on these 10 shopping cart and their order price, we can use linear algebra to calculate the value of each individual product.</u>\n",
    "\n",
    "First we need 10 rows of data without any anaomalies in the shopping_cart and order_price columns. Based on these rows we can create our linear algebra equation.\n",
    "</p>"
   ]
  },
  {
   "cell_type": "code",
   "execution_count": 14,
   "metadata": {},
   "outputs": [
    {
     "data": {
      "text/plain": [
       "array([[<matplotlib.axes._subplots.AxesSubplot object at 0x000001DB5D426550>]],\n",
       "      dtype=object)"
      ]
     },
     "execution_count": 14,
     "metadata": {},
     "output_type": "execute_result"
    },
    {
     "data": {
      "image/png": "[encoded data removed]",
      "text/plain": [
       "<Figure size 432x288 with 1 Axes>"
      ]
     },
     "metadata": {
      "needs_background": "light"
     },
     "output_type": "display_data"
    }
   ],
   "source": [
    "#Check distribution of order price\n",
    "df_dirty_data.hist(column='order_price')"
   ]
  },
  {
   "cell_type": "code",
   "execution_count": 15,
   "metadata": {},
   "outputs": [],
   "source": [
    "#Get rows with errors in other columns assider from order_price and shopping_cart\n",
    "safe_df_for_order_price = df_dirty_data[df_dirty_data['customer_lat']+37>2]"
   ]
  },
  {
   "cell_type": "markdown",
   "metadata": {},
   "source": [
    "<p>\n",
    "\n",
    "Below 10 list of shopping_cart are the values which i will be using to build the linear algebra equations to solve to get the individual price per items.\n",
    "</p>"
   ]
  },
  {
   "cell_type": "code",
   "execution_count": 16,
   "metadata": {},
   "outputs": [
    {
     "data": {
      "text/plain": [
       "[\"[('Universe Note', 1), ('Lucent 330S', 1), ('iStream', 1)]\",\n",
       " \"[('Universe Note', 1), ('Lucent 330S', 1), ('Candle Inferno', 1), ('pearTV', 1)]\",\n",
       " \"[('iStream', 1), ('Lucent 330S', 1), ('Alcon 10', 2)]\",\n",
       " \"[('Lucent 330S', 2), ('iAssist Line', 1), ('Thunder line', 1)]\",\n",
       " \"[('iAssist Line', 1), ('Olivia x460', 2), ('Alcon 10', 2)]\",\n",
       " \"[('Thunder line', 1), ('Candle Inferno', 2), ('iAssist Line', 2)]\",\n",
       " \"[('Alcon 10', 2), ('Universe Note', 1), ('iAssist Line', 1), ('Thunder line', 2)]\",\n",
       " \"[('Candle Inferno', 2), ('iStream', 2), ('Universe Note', 2)]\",\n",
       " \"[('Olivia x460', 1), ('Lucent 330S', 2)]\",\n",
       " \"[('Universe Note', 1), ('Candle Inferno', 1), ('Alcon 10', 1), ('Lucent 330S', 2)]\",\n",
       " \"[('pearTV', 2), ('Thunder line', 1), ('Alcon 10', 1), ('Candle Inferno', 2)]\",\n",
       " \"[('Candle Inferno', 1), ('Thunder line', 1), ('Universe Note', 2)]\",\n",
       " \"[('Universe Note', 2), ('Thunder line', 1), ('Candle Inferno', 1)]\",\n",
       " \"[('Toshika 750', 1), ('iStream', 1), ('pearTV', 2)]\",\n",
       " \"[('iStream', 2), ('Universe Note', 2)]\",\n",
       " \"[('Lucent 330S', 2), ('Toshika 750', 2), ('Thunder line', 1)]\",\n",
       " \"[('iAssist Line', 1), ('Candle Inferno', 1), ('Toshika 750', 2), ('iStream', 1)]\",\n",
       " \"[('Universe Note', 2), ('Toshika 750', 2), ('Lucent 330S', 1), ('Alcon 10', 1)]\",\n",
       " \"[('Olivia x460', 1), ('pearTV', 1)]\",\n",
       " \"[('iAssist Line', 1), ('Thunder line', 1), ('Olivia x460', 2), ('Toshika 750', 1)]\",\n",
       " \"[('Lucent 330S', 1), ('iStream', 1), ('Alcon 10', 2), ('Universe Note', 2)]\",\n",
       " \"[('Olivia x460', 1), ('Candle Inferno', 1)]\",\n",
       " \"[('iAssist Line', 1), ('Toshika 750', 2), ('iStream', 1)]\",\n",
       " \"[('Alcon 10', 1), ('Candle Inferno', 1), ('pearTV', 2), ('iStream', 2)]\",\n",
       " \"[('pearTV', 2), ('Universe Note', 2)]\",\n",
       " \"[('Toshika 750', 1), ('Alcon 10', 2)]\",\n",
       " \"[('iStream', 1), ('pearTV', 2), ('Universe Note', 2), ('Toshika 750', 2)]\"]"
      ]
     },
     "execution_count": 16,
     "metadata": {},
     "output_type": "execute_result"
    }
   ],
   "source": [
    "#Iterate over each row in the column and append the shopping cart items into a list\n",
    "collected_items = []\n",
    "safe_df_for_order_price['shopping_cart'].apply(lambda x:collected_items.append(x))\n",
    "collected_items"
   ]
  },
  {
   "cell_type": "markdown",
   "metadata": {},
   "source": [
    "<p>\n",
    "Each of the row in the matrix 'A' represent the count of the item in its respective shopping cart order.\n",
    "    \n",
    "Each count in the array 'B' represent the respective order_price of the shopping cart.\n",
    "\n",
    "The resultant values are the price per item. I have stored them into a dictionary for further use.\n",
    "</p>"
   ]
  },
  {
   "cell_type": "code",
   "execution_count": 17,
   "metadata": {},
   "outputs": [
    {
     "data": {
      "text/plain": [
       "array([3450., 1230.,  150.,  430., 6310., 8950., 2180., 1225., 2225.,\n",
       "       4320.])"
      ]
     },
     "execution_count": 17,
     "metadata": {},
     "output_type": "execute_result"
    }
   ],
   "source": [
    "#Create the array according to the above data\n",
    "a=np.array([[1,1,1,0,0,0,0,0,0,0],\n",
    "            [1,1,0,1,1,0,0,0,0,0],\n",
    "            [0,1,1,0,0,2,0,0,0,0],\n",
    "            [0,2,0,0,0,0,1,0,1,0],\n",
    "            [0,0,0,0,0,2,0,2,1,0],\n",
    "            [0,0,0,2,0,0,1,0,2,0],\n",
    "            [1,0,0,0,0,2,2,0,1,0],\n",
    "            [2,0,2,2,0,0,0,0,0,0],\n",
    "            [0,2,0,0,0,0,0,1,0,0],\n",
    "            [0,0,1,0,2,0,0,0,0,1]])\n",
    "b = np.array([4830,11420,19280,6865,22575,7490,27935,8060,3685,17090])\n",
    "x = np.linalg.solve(a, b)\n",
    "x"
   ]
  },
  {
   "cell_type": "code",
   "execution_count": 18,
   "metadata": {},
   "outputs": [],
   "source": [
    "#The final price per product as given above\n",
    "item_to_price_dict = {'Olivia x460': 1225.0, 'iStream': 150.0, 'Thunder line': 2180.0, 'iAssist Line': 2225.0, 'Toshika 750': 4320.0, 'pearTV': 6310.0, 'Candle Inferno': 430.0, 'Universe Note': 3450.0, 'Alcon 10': 8950.0, 'Lucent 330S': 1230.0}"
   ]
  },
  {
   "cell_type": "markdown",
   "metadata": {},
   "source": [
    "<p> \n",
    "We can now calculate the shopping cart price of all orders and the match them with the recorded values for order_price. The values of our calculated price and the recorded price should be the same.\n",
    "</p>"
   ]
  },
  {
   "cell_type": "code",
   "execution_count": 19,
   "metadata": {},
   "outputs": [],
   "source": [
    "#Function to calculate the value of the shopping_cart\n",
    "def cal_shopping_cart_price(row,item_to_price_dict):\n",
    "    total_price=0\n",
    "    for key, value in row.shopping_cart_dict.items():\n",
    "        total_price += item_to_price_dict[key]*value\n",
    "    return total_price"
   ]
  },
  {
   "cell_type": "code",
   "execution_count": 20,
   "metadata": {},
   "outputs": [],
   "source": [
    "#Calculate the value of the shopping_cart\n",
    "df_dirty_data['cal_order_price']=df_dirty_data.apply(lambda x:cal_shopping_cart_price(x,item_to_price_dict),axis=1)"
   ]
  },
  {
   "cell_type": "markdown",
   "metadata": {},
   "source": [
    "<p>\n",
    "By comparing the values of calculated order price and the recorded order price, we can see those rows where data errors are in the column.\n",
    "</p>"
   ]
  },
  {
   "cell_type": "markdown",
   "metadata": {},
   "source": [
    "<p></p>"
   ]
  },
  {
   "cell_type": "code",
   "execution_count": 21,
   "metadata": {},
   "outputs": [
    {
     "data": {
      "text/plain": [
       "cal_order_price    54\n",
       "order_price        54\n",
       "dtype: int64"
      ]
     },
     "execution_count": 21,
     "metadata": {},
     "output_type": "execute_result"
    }
   ],
   "source": [
    "df_dirty_data.loc[(df_dirty_data.cal_order_price!=df_dirty_data.order_price),['cal_order_price','order_price']].count()"
   ]
  },
  {
   "cell_type": "code",
   "execution_count": 22,
   "metadata": {},
   "outputs": [],
   "source": [
    "df_dirty_data.loc[(df_dirty_data.cal_order_price!=df_dirty_data.order_price),'order_price'] = df_dirty_data.cal_order_price"
   ]
  },
  {
   "cell_type": "markdown",
   "metadata": {},
   "source": [
    "<p>By checkicking the count again we can make sure our changes have taken place.</p>"
   ]
  },
  {
   "cell_type": "code",
   "execution_count": 23,
   "metadata": {},
   "outputs": [
    {
     "data": {
      "text/plain": [
       "cal_order_price    0\n",
       "order_price        0\n",
       "dtype: int64"
      ]
     },
     "execution_count": 23,
     "metadata": {},
     "output_type": "execute_result"
    }
   ],
   "source": [
    "df_dirty_data.loc[(df_dirty_data.cal_order_price!=df_dirty_data.order_price),['cal_order_price','order_price']].count()"
   ]
  },
  {
   "cell_type": "markdown",
   "metadata": {},
   "source": [
    "## Order Total - Semantic Errors"
   ]
  },
  {
   "cell_type": "markdown",
   "metadata": {},
   "source": [
    "<p>\n",
    "Since we have all the attributes that contribute to order total like delivery_charges, order_price and coupon_discount. \n",
    "    \n",
    "We can directly calculate the order total and then compare them to the recorded value to check their validity.\n",
    "\n",
    "Similar to how we did it for order_price\n",
    "\n",
    "The formula used to calculate the order total is : $(orderPrice*(1-\\frac{discount}{100}))+deliveryCharges$\n",
    "\n",
    "</p>"
   ]
  },
  {
   "cell_type": "code",
   "execution_count": 24,
   "metadata": {},
   "outputs": [
    {
     "data": {
      "text/plain": [
       "<matplotlib.axes._subplots.AxesSubplot at 0x1db5d869da0>"
      ]
     },
     "execution_count": 24,
     "metadata": {},
     "output_type": "execute_result"
    },
    {
     "data": {
      "image/png": "[encoded data removed]",
      "text/plain": [
       "<Figure size 432x288 with 1 Axes>"
      ]
     },
     "metadata": {
      "needs_background": "light"
     },
     "output_type": "display_data"
    }
   ],
   "source": [
    "df_dirty_data['order_total'].hist()"
   ]
  },
  {
   "cell_type": "code",
   "execution_count": 25,
   "metadata": {},
   "outputs": [],
   "source": [
    "# Function to check the order total values\n",
    "def cal_order_total(row):\n",
    "    # Discount Value\n",
    "    discount = 1-(row[\"coupon_discount\"]/100)\n",
    "    # Returning the calculated total order price \n",
    "    return round((row[\"order_price\"]*discount) + row[\"delivery_charges\"],2)"
   ]
  },
  {
   "cell_type": "code",
   "execution_count": 26,
   "metadata": {},
   "outputs": [],
   "source": [
    "#Calculate the order total in a new column for each row\n",
    "df_dirty_data['cal_order_total'] = df_dirty_data.apply(lambda x: cal_order_total(x),axis=1)"
   ]
  },
  {
   "cell_type": "code",
   "execution_count": 27,
   "metadata": {},
   "outputs": [
    {
     "data": {
      "text/html": [
       "<div>\n",
       "<style scoped>\n",
       "    .dataframe tbody tr th:only-of-type {\n",
       "        vertical-align: middle;\n",
       "    }\n",
       "\n",
       "    .dataframe tbody tr th {\n",
       "        vertical-align: top;\n",
       "    }\n",
       "\n",
       "    .dataframe thead th {\n",
       "        text-align: right;\n",
       "    }\n",
       "</style>\n",
       "<table border=\"1\" class=\"dataframe\">\n",
       "  <thead>\n",
       "    <tr style=\"text-align: right;\">\n",
       "      <th></th>\n",
       "      <th>order_total</th>\n",
       "      <th>cal_order_total</th>\n",
       "    </tr>\n",
       "  </thead>\n",
       "  <tbody>\n",
       "    <tr>\n",
       "      <th>6</th>\n",
       "      <td>20312.29</td>\n",
       "      <td>18649.79</td>\n",
       "    </tr>\n",
       "    <tr>\n",
       "      <th>17</th>\n",
       "      <td>9243.00</td>\n",
       "      <td>23920.50</td>\n",
       "    </tr>\n",
       "    <tr>\n",
       "      <th>20</th>\n",
       "      <td>22064.78</td>\n",
       "      <td>12735.11</td>\n",
       "    </tr>\n",
       "    <tr>\n",
       "      <th>21</th>\n",
       "      <td>15342.39</td>\n",
       "      <td>6484.20</td>\n",
       "    </tr>\n",
       "    <tr>\n",
       "      <th>38</th>\n",
       "      <td>13819.68</td>\n",
       "      <td>11364.42</td>\n",
       "    </tr>\n",
       "    <tr>\n",
       "      <th>49</th>\n",
       "      <td>11679.84</td>\n",
       "      <td>2745.78</td>\n",
       "    </tr>\n",
       "    <tr>\n",
       "      <th>55</th>\n",
       "      <td>16728.90</td>\n",
       "      <td>19353.90</td>\n",
       "    </tr>\n",
       "    <tr>\n",
       "      <th>61</th>\n",
       "      <td>26356.34</td>\n",
       "      <td>13378.71</td>\n",
       "    </tr>\n",
       "    <tr>\n",
       "      <th>68</th>\n",
       "      <td>19911.71</td>\n",
       "      <td>28251.71</td>\n",
       "    </tr>\n",
       "    <tr>\n",
       "      <th>72</th>\n",
       "      <td>10383.17</td>\n",
       "      <td>8633.17</td>\n",
       "    </tr>\n",
       "  </tbody>\n",
       "</table>\n",
       "</div>"
      ],
      "text/plain": [
       "    order_total  cal_order_total\n",
       "6      20312.29         18649.79\n",
       "17      9243.00         23920.50\n",
       "20     22064.78         12735.11\n",
       "21     15342.39          6484.20\n",
       "38     13819.68         11364.42\n",
       "49     11679.84          2745.78\n",
       "55     16728.90         19353.90\n",
       "61     26356.34         13378.71\n",
       "68     19911.71         28251.71\n",
       "72     10383.17          8633.17"
      ]
     },
     "execution_count": 27,
     "metadata": {},
     "output_type": "execute_result"
    }
   ],
   "source": [
    "#Rows where cal_order_total != order_total\n",
    "df_dirty_data.loc[df_dirty_data.cal_order_total!=df_dirty_data.order_total,['order_total','cal_order_total']].head(10)"
   ]
  },
  {
   "cell_type": "code",
   "execution_count": 28,
   "metadata": {},
   "outputs": [
    {
     "data": {
      "text/plain": [
       "order_total        54\n",
       "cal_order_total    54\n",
       "dtype: int64"
      ]
     },
     "execution_count": 28,
     "metadata": {},
     "output_type": "execute_result"
    }
   ],
   "source": [
    "#count of rows where cal_order_total != order_total\n",
    "df_dirty_data.loc[df_dirty_data.cal_order_total!=df_dirty_data.order_total,['order_total','cal_order_total']].count()"
   ]
  },
  {
   "cell_type": "code",
   "execution_count": 29,
   "metadata": {},
   "outputs": [],
   "source": [
    "#Replacing incorrect order_total with our calculated order total\n",
    "df_dirty_data.loc[df_dirty_data.cal_order_total!=df_dirty_data.order_total,['order_total','cal_order_total']] = df_dirty_data['cal_order_total']"
   ]
  },
  {
   "cell_type": "code",
   "execution_count": 30,
   "metadata": {},
   "outputs": [
    {
     "data": {
      "text/html": [
       "<div>\n",
       "<style scoped>\n",
       "    .dataframe tbody tr th:only-of-type {\n",
       "        vertical-align: middle;\n",
       "    }\n",
       "\n",
       "    .dataframe tbody tr th {\n",
       "        vertical-align: top;\n",
       "    }\n",
       "\n",
       "    .dataframe thead th {\n",
       "        text-align: right;\n",
       "    }\n",
       "</style>\n",
       "<table border=\"1\" class=\"dataframe\">\n",
       "  <thead>\n",
       "    <tr style=\"text-align: right;\">\n",
       "      <th></th>\n",
       "      <th>order_total</th>\n",
       "      <th>cal_order_total</th>\n",
       "    </tr>\n",
       "  </thead>\n",
       "  <tbody>\n",
       "  </tbody>\n",
       "</table>\n",
       "</div>"
      ],
      "text/plain": [
       "Empty DataFrame\n",
       "Columns: [order_total, cal_order_total]\n",
       "Index: []"
      ]
     },
     "execution_count": 30,
     "metadata": {},
     "output_type": "execute_result"
    }
   ],
   "source": [
    "#Check Whether our changes took effect\n",
    "df_dirty_data.loc[df_dirty_data.cal_order_total!=df_dirty_data.order_total,['order_total','cal_order_total']].head(10)"
   ]
  },
  {
   "cell_type": "markdown",
   "metadata": {},
   "source": [
    "## Customer Latitude & Longitude - Semantic Errors"
   ]
  },
  {
   "cell_type": "markdown",
   "metadata": {},
   "source": [
    "<p>\n",
    "The major problem with these two columns is that there is no way of actually correcting data that has been mis-recorded, since we cannot know for sure the latitude and longitude of the customer any longer. \n",
    "\n",
    "We also cannot derive these values from other columns, hence any error made while recording the exact coordinate will remain.\n",
    "\n",
    "Since we can assume that the cuustomers will be nearby to the factories, these latitude and longitudes of the customers will be around the same area. That is most of the latitide and longitude recorded should be near each other or a warehouse.\n",
    "\n",
    "</p>"
   ]
  },
  {
   "cell_type": "code",
   "execution_count": 31,
   "metadata": {},
   "outputs": [
    {
     "data": {
      "text/plain": [
       "array([[<matplotlib.axes._subplots.AxesSubplot object at 0x000001DB5D84BB70>,\n",
       "        <matplotlib.axes._subplots.AxesSubplot object at 0x000001DB5D937BE0>]],\n",
       "      dtype=object)"
      ]
     },
     "execution_count": 31,
     "metadata": {},
     "output_type": "execute_result"
    },
    {
     "data": {
      "image/png": "[encoded data removed]",
      "text/plain": [
       "<Figure size 432x288 with 2 Axes>"
      ]
     },
     "metadata": {
      "needs_background": "light"
     },
     "output_type": "display_data"
    }
   ],
   "source": [
    "df_dirty_data[['customer_lat','customer_long']].hist()"
   ]
  },
  {
   "cell_type": "code",
   "execution_count": 32,
   "metadata": {
    "scrolled": false
   },
   "outputs": [
    {
     "data": {
      "text/html": [
       "<div>\n",
       "<style scoped>\n",
       "    .dataframe tbody tr th:only-of-type {\n",
       "        vertical-align: middle;\n",
       "    }\n",
       "\n",
       "    .dataframe tbody tr th {\n",
       "        vertical-align: top;\n",
       "    }\n",
       "\n",
       "    .dataframe thead th {\n",
       "        text-align: right;\n",
       "    }\n",
       "</style>\n",
       "<table border=\"1\" class=\"dataframe\">\n",
       "  <thead>\n",
       "    <tr style=\"text-align: right;\">\n",
       "      <th></th>\n",
       "      <th>customer_lat</th>\n",
       "      <th>customer_long</th>\n",
       "    </tr>\n",
       "  </thead>\n",
       "  <tbody>\n",
       "    <tr>\n",
       "      <th>count</th>\n",
       "      <td>500.000000</td>\n",
       "      <td>500.000000</td>\n",
       "    </tr>\n",
       "    <tr>\n",
       "      <th>mean</th>\n",
       "      <td>-27.942060</td>\n",
       "      <td>135.095884</td>\n",
       "    </tr>\n",
       "    <tr>\n",
       "      <th>std</th>\n",
       "      <td>41.353517</td>\n",
       "      <td>41.353177</td>\n",
       "    </tr>\n",
       "    <tr>\n",
       "      <th>min</th>\n",
       "      <td>-37.827738</td>\n",
       "      <td>-37.829985</td>\n",
       "    </tr>\n",
       "    <tr>\n",
       "      <th>25%</th>\n",
       "      <td>-37.818686</td>\n",
       "      <td>144.949407</td>\n",
       "    </tr>\n",
       "    <tr>\n",
       "      <th>50%</th>\n",
       "      <td>-37.811829</td>\n",
       "      <td>144.962689</td>\n",
       "    </tr>\n",
       "    <tr>\n",
       "      <th>75%</th>\n",
       "      <td>-37.804443</td>\n",
       "      <td>144.976857</td>\n",
       "    </tr>\n",
       "    <tr>\n",
       "      <th>max</th>\n",
       "      <td>145.014854</td>\n",
       "      <td>145.018208</td>\n",
       "    </tr>\n",
       "  </tbody>\n",
       "</table>\n",
       "</div>"
      ],
      "text/plain": [
       "       customer_lat  customer_long\n",
       "count    500.000000     500.000000\n",
       "mean     -27.942060     135.095884\n",
       "std       41.353517      41.353177\n",
       "min      -37.827738     -37.829985\n",
       "25%      -37.818686     144.949407\n",
       "50%      -37.811829     144.962689\n",
       "75%      -37.804443     144.976857\n",
       "max      145.014854     145.018208"
      ]
     },
     "execution_count": 32,
     "metadata": {},
     "output_type": "execute_result"
    }
   ],
   "source": [
    "#Describe the columsn\n",
    "df_dirty_data[['customer_lat','customer_long']].describe()"
   ]
  },
  {
   "cell_type": "code",
   "execution_count": 33,
   "metadata": {},
   "outputs": [
    {
     "data": {
      "text/html": [
       "<div>\n",
       "<style scoped>\n",
       "    .dataframe tbody tr th:only-of-type {\n",
       "        vertical-align: middle;\n",
       "    }\n",
       "\n",
       "    .dataframe tbody tr th {\n",
       "        vertical-align: top;\n",
       "    }\n",
       "\n",
       "    .dataframe thead th {\n",
       "        text-align: right;\n",
       "    }\n",
       "</style>\n",
       "<table border=\"1\" class=\"dataframe\">\n",
       "  <thead>\n",
       "    <tr style=\"text-align: right;\">\n",
       "      <th></th>\n",
       "      <th>customer_lat</th>\n",
       "      <th>customer_long</th>\n",
       "    </tr>\n",
       "  </thead>\n",
       "  <tbody>\n",
       "    <tr>\n",
       "      <th>0</th>\n",
       "      <td>-37.820062</td>\n",
       "      <td>145.013224</td>\n",
       "    </tr>\n",
       "    <tr>\n",
       "      <th>1</th>\n",
       "      <td>-37.809679</td>\n",
       "      <td>144.955368</td>\n",
       "    </tr>\n",
       "    <tr>\n",
       "      <th>2</th>\n",
       "      <td>-37.823350</td>\n",
       "      <td>144.976545</td>\n",
       "    </tr>\n",
       "    <tr>\n",
       "      <th>3</th>\n",
       "      <td>-37.814340</td>\n",
       "      <td>144.954684</td>\n",
       "    </tr>\n",
       "    <tr>\n",
       "      <th>4</th>\n",
       "      <td>-37.825247</td>\n",
       "      <td>144.944797</td>\n",
       "    </tr>\n",
       "  </tbody>\n",
       "</table>\n",
       "</div>"
      ],
      "text/plain": [
       "   customer_lat  customer_long\n",
       "0    -37.820062     145.013224\n",
       "1    -37.809679     144.955368\n",
       "2    -37.823350     144.976545\n",
       "3    -37.814340     144.954684\n",
       "4    -37.825247     144.944797"
      ]
     },
     "execution_count": 33,
     "metadata": {},
     "output_type": "execute_result"
    }
   ],
   "source": [
    "df_dirty_data[['customer_lat','customer_long']].head()"
   ]
  },
  {
   "cell_type": "markdown",
   "metadata": {},
   "source": [
    "<p>\n",
    "It seems in these 2 columns the data anamoly that is present is that the value for the two columns are inter-changed. This gives us wrong customer latitude and longitude causing the cusomter to appear in the other hemisphere.\n",
    "    \n",
    "<u>To fix this anamoly we will be swapping the recorded values of latitude and longitude.</u>\n",
    "\n",
    "Another thing to also note for these 2 columns is that when we use the .describe() fucntion on them we see that while the mean 25%,50& and 75% reading are almost similar the std is quite high (approx 41 for both column). This does not make sense as if the values of our quatiles are so similar the std should be more near 0. \n",
    "\n",
    "The above finding back the observation that some values for customer latitude and longitude were swapped while recording.\n",
    "</p>"
   ]
  },
  {
   "cell_type": "code",
   "execution_count": 34,
   "metadata": {},
   "outputs": [],
   "source": [
    "#Create a temporary customer_lat column\n",
    "df_dirty_data['customer_lat_temp'] = df_dirty_data['customer_lat']"
   ]
  },
  {
   "cell_type": "code",
   "execution_count": 35,
   "metadata": {},
   "outputs": [],
   "source": [
    "#Swap the latitiude for respective longitude from the row, when ever our condition isnt met.\n",
    "df_dirty_data.loc[df_dirty_data['customer_lat']+37>2,'customer_lat'] = df_dirty_data['customer_long'][df_dirty_data['customer_lat']+37>2]"
   ]
  },
  {
   "cell_type": "code",
   "execution_count": 36,
   "metadata": {},
   "outputs": [],
   "source": [
    "#Swap the longitude for respective longitude from the new col we had created, when ever our condition isnt met.\n",
    "df_dirty_data.loc[df_dirty_data['customer_long']<143,'customer_long'] = df_dirty_data['customer_lat_temp'][df_dirty_data['customer_long']<143]\n",
    "#Delete the temporary row used during swapping\n",
    "del df_dirty_data['customer_lat_temp']"
   ]
  },
  {
   "cell_type": "code",
   "execution_count": 37,
   "metadata": {},
   "outputs": [
    {
     "data": {
      "text/html": [
       "<div>\n",
       "<style scoped>\n",
       "    .dataframe tbody tr th:only-of-type {\n",
       "        vertical-align: middle;\n",
       "    }\n",
       "\n",
       "    .dataframe tbody tr th {\n",
       "        vertical-align: top;\n",
       "    }\n",
       "\n",
       "    .dataframe thead th {\n",
       "        text-align: right;\n",
       "    }\n",
       "</style>\n",
       "<table border=\"1\" class=\"dataframe\">\n",
       "  <thead>\n",
       "    <tr style=\"text-align: right;\">\n",
       "      <th></th>\n",
       "      <th>customer_lat</th>\n",
       "      <th>customer_long</th>\n",
       "    </tr>\n",
       "  </thead>\n",
       "  <tbody>\n",
       "    <tr>\n",
       "      <th>count</th>\n",
       "      <td>500.000000</td>\n",
       "      <td>500.000000</td>\n",
       "    </tr>\n",
       "    <tr>\n",
       "      <th>mean</th>\n",
       "      <td>-37.812484</td>\n",
       "      <td>144.966308</td>\n",
       "    </tr>\n",
       "    <tr>\n",
       "      <th>std</th>\n",
       "      <td>0.007667</td>\n",
       "      <td>0.020491</td>\n",
       "    </tr>\n",
       "    <tr>\n",
       "      <th>min</th>\n",
       "      <td>-37.829985</td>\n",
       "      <td>144.923068</td>\n",
       "    </tr>\n",
       "    <tr>\n",
       "      <th>25%</th>\n",
       "      <td>-37.818897</td>\n",
       "      <td>144.952200</td>\n",
       "    </tr>\n",
       "    <tr>\n",
       "      <th>50%</th>\n",
       "      <td>-37.812611</td>\n",
       "      <td>144.963569</td>\n",
       "    </tr>\n",
       "    <tr>\n",
       "      <th>75%</th>\n",
       "      <td>-37.806233</td>\n",
       "      <td>144.978022</td>\n",
       "    </tr>\n",
       "    <tr>\n",
       "      <th>max</th>\n",
       "      <td>-37.790623</td>\n",
       "      <td>145.018208</td>\n",
       "    </tr>\n",
       "  </tbody>\n",
       "</table>\n",
       "</div>"
      ],
      "text/plain": [
       "       customer_lat  customer_long\n",
       "count    500.000000     500.000000\n",
       "mean     -37.812484     144.966308\n",
       "std        0.007667       0.020491\n",
       "min      -37.829985     144.923068\n",
       "25%      -37.818897     144.952200\n",
       "50%      -37.812611     144.963569\n",
       "75%      -37.806233     144.978022\n",
       "max      -37.790623     145.018208"
      ]
     },
     "execution_count": 37,
     "metadata": {},
     "output_type": "execute_result"
    }
   ],
   "source": [
    "df_dirty_data[['customer_lat','customer_long']].describe()"
   ]
  },
  {
   "cell_type": "markdown",
   "metadata": {},
   "source": [
    "<p>\n",
    "\n",
    "We can see that our assumption was right on correcting the data anamoly within these 2 columns the std of both the columns has almost reached 0.\n",
    " \n",
    "</p>"
   ]
  },
  {
   "cell_type": "markdown",
   "metadata": {},
   "source": [
    "## Distance to warehouse - Semantic Error"
   ]
  },
  {
   "cell_type": "markdown",
   "metadata": {},
   "source": [
    "<p>\n",
    "Distance to warehouse is another column for which we can compare the recorded value with our own calculated value to see the accuracy of the collected data.\n",
    "\n",
    "Given the latitude and longitude of each warehouse and the corrected customer latitude and longitude, we can calculate the shortest distance between the customer and one of the warehouse.\n",
    "\n",
    "We will be using haversine distance for our distance calculation, with the radius of earth being 6378.\n",
    "</p>"
   ]
  },
  {
   "cell_type": "code",
   "execution_count": 38,
   "metadata": {},
   "outputs": [
    {
     "data": {
      "text/plain": [
       "<matplotlib.axes._subplots.AxesSubplot at 0x1db5d9dc7b8>"
      ]
     },
     "execution_count": 38,
     "metadata": {},
     "output_type": "execute_result"
    },
    {
     "data": {
      "image/png": "[encoded data removed]",
      "text/plain": [
       "<Figure size 432x288 with 1 Axes>"
      ]
     },
     "metadata": {
      "needs_background": "light"
     },
     "output_type": "display_data"
    }
   ],
   "source": [
    "df_dirty_data['distance_to_nearest_warehouse'].hist()"
   ]
  },
  {
   "cell_type": "code",
   "execution_count": 39,
   "metadata": {},
   "outputs": [
    {
     "data": {
      "text/plain": [
       "count    500.000000\n",
       "mean       1.098041\n",
       "std        0.492837\n",
       "min        0.026500\n",
       "25%        0.771500\n",
       "50%        1.058250\n",
       "75%        1.370650\n",
       "max        2.721400\n",
       "Name: distance_to_nearest_warehouse, dtype: float64"
      ]
     },
     "execution_count": 39,
     "metadata": {},
     "output_type": "execute_result"
    }
   ],
   "source": [
    "#Seems like everyone lives nearby. We can \n",
    "df_dirty_data['distance_to_nearest_warehouse'].describe()"
   ]
  },
  {
   "cell_type": "code",
   "execution_count": 40,
   "metadata": {},
   "outputs": [],
   "source": [
    "# Copied from : https://towardsdatascience.com/heres-how-to-calculate-distance-between-2-geolocations-in-python-93ecab5bbba4\n",
    "#Function to calculate haversine distance between 2 coordinate points\n",
    "def haversine_distance(lat1, lon1, lat2, lon2):\n",
    "   r = 6378\n",
    "   phi1 = np.radians(lat1)\n",
    "   phi2 = np.radians(lat2)\n",
    "   delta_phi = np.radians(lat2 - lat1)\n",
    "   delta_lambda = np.radians(lon2 - lon1)\n",
    "   a = np.sin(delta_phi / 2)**2 + np.cos(phi1) * np.cos(phi2) *   np.sin(delta_lambda / 2)**2\n",
    "   res = r * (2 * np.arctan2(np.sqrt(a), np.sqrt(1 - a)))\n",
    "   return np.round(res, 4)"
   ]
  },
  {
   "cell_type": "code",
   "execution_count": 41,
   "metadata": {},
   "outputs": [],
   "source": [
    "#Function to calculate the nearest warehouse\n",
    "def compute_the_nearest_warehouse(row):\n",
    "    #Cusotmer Longitude\n",
    "    cust_long = row.customer_long\n",
    "    #Customer Latitude\n",
    "    cust_lat = row.customer_lat\n",
    "    #A tuple containing the name of the warehosue and the haversine_distance between the customer and the warehouse.\n",
    "    dist_nickolson_fact = ('Nickolson',haversine_distance(cust_lat,cust_long,\\\n",
    "                                             float(warehouse_loc.loc[warehouse_loc.names == 'Nickolson','lat']),float(warehouse_loc.loc[warehouse_loc.names == 'Nickolson','lon'])))\n",
    "    #A tuple containing the name of the warehosue and the haversine_distance between the customer and the warehouse.\n",
    "    dist_thompson_fact = ('Thompson',haversine_distance(cust_lat,cust_long,\\\n",
    "                                           float(warehouse_loc.loc[warehouse_loc.names == 'Thompson','lat']),float(warehouse_loc.loc[warehouse_loc.names == 'Thompson','lon'])))\n",
    "    #A tuple containing the name of the warehosue and the haversine_distance between the customer and the warehouse.\n",
    "    dist_bakers_fact = ('Bakers',haversine_distance(cust_lat,cust_long,\\\n",
    "                                           float(warehouse_loc.loc[warehouse_loc.names == 'Bakers','lon']),float(warehouse_loc.loc[warehouse_loc.names == 'Bakers','lon'])))\n",
    "    #Create a list of the above three tuple\n",
    "    list_of_dist = [dist_nickolson_fact,dist_thompson_fact,dist_bakers_fact]\n",
    "    #Return the tuple with the minimum distance out of the list.\n",
    "    return(min(list_of_dist,key=lambda x:x[1]))  "
   ]
  },
  {
   "cell_type": "code",
   "execution_count": 42,
   "metadata": {},
   "outputs": [],
   "source": [
    "#Create a new column and compute the nearest warehouse.\n",
    "df_dirty_data['computed_distance_to_nearest_warehouse'] = df_dirty_data.apply(lambda x: compute_the_nearest_warehouse(x)[1],axis=1)"
   ]
  },
  {
   "cell_type": "code",
   "execution_count": 43,
   "metadata": {},
   "outputs": [
    {
     "data": {
      "text/plain": [
       "computed_distance_to_nearest_warehouse    131\n",
       "distance_to_nearest_warehouse             131\n",
       "dtype: int64"
      ]
     },
     "execution_count": 43,
     "metadata": {},
     "output_type": "execute_result"
    }
   ],
   "source": [
    "#Get count of rows where the computed distance and the recorded distance do not match\n",
    "df_dirty_data.loc[(df_dirty_data.computed_distance_to_nearest_warehouse!=df_dirty_data.distance_to_nearest_warehouse),['computed_distance_to_nearest_warehouse','distance_to_nearest_warehouse']].count()"
   ]
  },
  {
   "cell_type": "markdown",
   "metadata": {},
   "source": [
    "<p>\n",
    "Seems like there are 131 rows with incorrect distance_to_nearest_warehouse. We will be fixing these errors.\n",
    "</p>"
   ]
  },
  {
   "cell_type": "code",
   "execution_count": 44,
   "metadata": {},
   "outputs": [],
   "source": [
    "#Replace the recorded row value of distance_to_nearest_warehouse with the computed one, wherever they do not match\n",
    "df_dirty_data.loc[(df_dirty_data.computed_distance_to_nearest_warehouse!=df_dirty_data.distance_to_nearest_warehouse),'distance_to_nearest_warehouse']=\\\n",
    "df_dirty_data['computed_distance_to_nearest_warehouse']"
   ]
  },
  {
   "cell_type": "code",
   "execution_count": 45,
   "metadata": {},
   "outputs": [
    {
     "data": {
      "text/plain": [
       "computed_distance_to_nearest_warehouse    0\n",
       "distance_to_nearest_warehouse             0\n",
       "dtype: int64"
      ]
     },
     "execution_count": 45,
     "metadata": {},
     "output_type": "execute_result"
    }
   ],
   "source": [
    "#Get count of rows where the computed distance and the recorded distance do not match\n",
    "df_dirty_data.loc[(df_dirty_data.computed_distance_to_nearest_warehouse!=df_dirty_data.distance_to_nearest_warehouse),['computed_distance_to_nearest_warehouse','distance_to_nearest_warehouse']].count()"
   ]
  },
  {
   "cell_type": "markdown",
   "metadata": {},
   "source": [
    "## Season - Lexical and Semantic Error"
   ]
  },
  {
   "cell_type": "markdown",
   "metadata": {},
   "source": [
    "<p>\n",
    "It seems that Season has lexical errors as from the below code we can see that there are 2 version of the season recorded, this is a lexical error.\n",
    "    \n",
    "We will be fixing these errors the same as we did in nearest_warehouse column, we will replace the small-capetalized entried which their majority format.\n",
    "\n",
    "</p>"
   ]
  },
  {
   "cell_type": "code",
   "execution_count": 46,
   "metadata": {},
   "outputs": [
    {
     "data": {
      "text/plain": [
       "<matplotlib.axes._subplots.AxesSubplot at 0x1db5da37240>"
      ]
     },
     "execution_count": 46,
     "metadata": {},
     "output_type": "execute_result"
    },
    {
     "data": {
      "image/png": "[encoded data removed]",
      "text/plain": [
       "<Figure size 432x288 with 1 Axes>"
      ]
     },
     "metadata": {
      "needs_background": "light"
     },
     "output_type": "display_data"
    }
   ],
   "source": [
    "df_dirty_data.season.hist()"
   ]
  },
  {
   "cell_type": "code",
   "execution_count": 47,
   "metadata": {},
   "outputs": [
    {
     "data": {
      "text/plain": [
       "Autumn    126\n",
       "Spring    124\n",
       "Summer    120\n",
       "Winter    112\n",
       "autumn      7\n",
       "summer      5\n",
       "winter      4\n",
       "spring      2\n",
       "Name: season, dtype: int64"
      ]
     },
     "execution_count": 47,
     "metadata": {},
     "output_type": "execute_result"
    }
   ],
   "source": [
    "df_dirty_data.season.value_counts()"
   ]
  },
  {
   "cell_type": "code",
   "execution_count": 48,
   "metadata": {},
   "outputs": [
    {
     "data": {
      "text/plain": [
       "Autumn    133\n",
       "Spring    126\n",
       "Summer    125\n",
       "Winter    116\n",
       "Name: season, dtype: int64"
      ]
     },
     "execution_count": 48,
     "metadata": {},
     "output_type": "execute_result"
    }
   ],
   "source": [
    "#Get all values into same case.\n",
    "df_dirty_data.season.replace({\"summer\": \"Summer\", \"autumn\": \"Autumn\", \"winter\":\"Winter\",\"spring\":\"Spring\"}, inplace = True)\n",
    "df_dirty_data.season.value_counts()"
   ]
  },
  {
   "cell_type": "markdown",
   "metadata": {},
   "source": [
    "<p>\n",
    "Season is again a column that can be derived from our other column 'Date'.\n",
    "    \n",
    "By checking which month a particular season falls on we can check if the season was correctly recorded. From the below code we can see that for a few rows the season has been incorrectly recorded according to the given specification and recorded date.\n",
    "\n",
    "This is a form of semantic error.\n",
    "</p>"
   ]
  },
  {
   "cell_type": "code",
   "execution_count": 49,
   "metadata": {
    "scrolled": true
   },
   "outputs": [
    {
     "data": {
      "text/html": [
       "<div>\n",
       "<style scoped>\n",
       "    .dataframe tbody tr th:only-of-type {\n",
       "        vertical-align: middle;\n",
       "    }\n",
       "\n",
       "    .dataframe tbody tr th {\n",
       "        vertical-align: top;\n",
       "    }\n",
       "\n",
       "    .dataframe thead th {\n",
       "        text-align: right;\n",
       "    }\n",
       "</style>\n",
       "<table border=\"1\" class=\"dataframe\">\n",
       "  <thead>\n",
       "    <tr style=\"text-align: right;\">\n",
       "      <th>season</th>\n",
       "      <th>Autumn</th>\n",
       "      <th>Spring</th>\n",
       "      <th>Summer</th>\n",
       "      <th>Winter</th>\n",
       "    </tr>\n",
       "    <tr>\n",
       "      <th>date</th>\n",
       "      <th></th>\n",
       "      <th></th>\n",
       "      <th></th>\n",
       "      <th></th>\n",
       "    </tr>\n",
       "  </thead>\n",
       "  <tbody>\n",
       "    <tr>\n",
       "      <th>1</th>\n",
       "      <td>0</td>\n",
       "      <td>0</td>\n",
       "      <td>45</td>\n",
       "      <td>1</td>\n",
       "    </tr>\n",
       "    <tr>\n",
       "      <th>2</th>\n",
       "      <td>2</td>\n",
       "      <td>2</td>\n",
       "      <td>37</td>\n",
       "      <td>1</td>\n",
       "    </tr>\n",
       "    <tr>\n",
       "      <th>3</th>\n",
       "      <td>42</td>\n",
       "      <td>0</td>\n",
       "      <td>0</td>\n",
       "      <td>1</td>\n",
       "    </tr>\n",
       "    <tr>\n",
       "      <th>4</th>\n",
       "      <td>41</td>\n",
       "      <td>1</td>\n",
       "      <td>0</td>\n",
       "      <td>0</td>\n",
       "    </tr>\n",
       "    <tr>\n",
       "      <th>5</th>\n",
       "      <td>42</td>\n",
       "      <td>1</td>\n",
       "      <td>0</td>\n",
       "      <td>0</td>\n",
       "    </tr>\n",
       "    <tr>\n",
       "      <th>6</th>\n",
       "      <td>2</td>\n",
       "      <td>0</td>\n",
       "      <td>0</td>\n",
       "      <td>46</td>\n",
       "    </tr>\n",
       "    <tr>\n",
       "      <th>7</th>\n",
       "      <td>0</td>\n",
       "      <td>1</td>\n",
       "      <td>0</td>\n",
       "      <td>40</td>\n",
       "    </tr>\n",
       "    <tr>\n",
       "      <th>8</th>\n",
       "      <td>1</td>\n",
       "      <td>0</td>\n",
       "      <td>2</td>\n",
       "      <td>26</td>\n",
       "    </tr>\n",
       "    <tr>\n",
       "      <th>9</th>\n",
       "      <td>2</td>\n",
       "      <td>33</td>\n",
       "      <td>0</td>\n",
       "      <td>0</td>\n",
       "    </tr>\n",
       "    <tr>\n",
       "      <th>10</th>\n",
       "      <td>1</td>\n",
       "      <td>44</td>\n",
       "      <td>0</td>\n",
       "      <td>1</td>\n",
       "    </tr>\n",
       "    <tr>\n",
       "      <th>11</th>\n",
       "      <td>0</td>\n",
       "      <td>42</td>\n",
       "      <td>1</td>\n",
       "      <td>0</td>\n",
       "    </tr>\n",
       "    <tr>\n",
       "      <th>12</th>\n",
       "      <td>0</td>\n",
       "      <td>2</td>\n",
       "      <td>40</td>\n",
       "      <td>0</td>\n",
       "    </tr>\n",
       "  </tbody>\n",
       "</table>\n",
       "</div>"
      ],
      "text/plain": [
       "season  Autumn  Spring  Summer  Winter\n",
       "date                                  \n",
       "1            0       0      45       1\n",
       "2            2       2      37       1\n",
       "3           42       0       0       1\n",
       "4           41       1       0       0\n",
       "5           42       1       0       0\n",
       "6            2       0       0      46\n",
       "7            0       1       0      40\n",
       "8            1       0       2      26\n",
       "9            2      33       0       0\n",
       "10           1      44       0       1\n",
       "11           0      42       1       0\n",
       "12           0       2      40       0"
      ]
     },
     "execution_count": 49,
     "metadata": {},
     "output_type": "execute_result"
    }
   ],
   "source": [
    "pd.crosstab(df_dirty_data['date'].dt.month,df_dirty_data['season'])"
   ]
  },
  {
   "cell_type": "markdown",
   "metadata": {},
   "source": [
    "<p>\n",
    "We can see that for a few dates the recorded season is not the same as the one it should be according to the assignment specification. We will then change these records season column according to their date column value.\n",
    "</p>"
   ]
  },
  {
   "cell_type": "code",
   "execution_count": 50,
   "metadata": {},
   "outputs": [],
   "source": [
    "#month to season dict - taken from assignment specification\n",
    "month_season = {1:'Summer',2:'Summer',3:'Autumn',4:'Autumn',5:'Autumn',6:'Winter',7:'Winter',8:'Winter',9:'Spring',10:'Spring',11:'Spring',12:'Summer'}"
   ]
  },
  {
   "cell_type": "code",
   "execution_count": 51,
   "metadata": {},
   "outputs": [],
   "source": [
    "#Lookup from the create dictionary and return the required season\n",
    "df_dirty_data['season']=df_dirty_data['date'].apply(lambda x: month_season[x.month])"
   ]
  },
  {
   "cell_type": "code",
   "execution_count": 52,
   "metadata": {
    "scrolled": false
   },
   "outputs": [
    {
     "data": {
      "text/html": [
       "<div>\n",
       "<style scoped>\n",
       "    .dataframe tbody tr th:only-of-type {\n",
       "        vertical-align: middle;\n",
       "    }\n",
       "\n",
       "    .dataframe tbody tr th {\n",
       "        vertical-align: top;\n",
       "    }\n",
       "\n",
       "    .dataframe thead th {\n",
       "        text-align: right;\n",
       "    }\n",
       "</style>\n",
       "<table border=\"1\" class=\"dataframe\">\n",
       "  <thead>\n",
       "    <tr style=\"text-align: right;\">\n",
       "      <th>season</th>\n",
       "      <th>Autumn</th>\n",
       "      <th>Spring</th>\n",
       "      <th>Summer</th>\n",
       "      <th>Winter</th>\n",
       "    </tr>\n",
       "    <tr>\n",
       "      <th>date</th>\n",
       "      <th></th>\n",
       "      <th></th>\n",
       "      <th></th>\n",
       "      <th></th>\n",
       "    </tr>\n",
       "  </thead>\n",
       "  <tbody>\n",
       "    <tr>\n",
       "      <th>1</th>\n",
       "      <td>0</td>\n",
       "      <td>0</td>\n",
       "      <td>46</td>\n",
       "      <td>0</td>\n",
       "    </tr>\n",
       "    <tr>\n",
       "      <th>2</th>\n",
       "      <td>0</td>\n",
       "      <td>0</td>\n",
       "      <td>42</td>\n",
       "      <td>0</td>\n",
       "    </tr>\n",
       "    <tr>\n",
       "      <th>3</th>\n",
       "      <td>43</td>\n",
       "      <td>0</td>\n",
       "      <td>0</td>\n",
       "      <td>0</td>\n",
       "    </tr>\n",
       "    <tr>\n",
       "      <th>4</th>\n",
       "      <td>42</td>\n",
       "      <td>0</td>\n",
       "      <td>0</td>\n",
       "      <td>0</td>\n",
       "    </tr>\n",
       "    <tr>\n",
       "      <th>5</th>\n",
       "      <td>43</td>\n",
       "      <td>0</td>\n",
       "      <td>0</td>\n",
       "      <td>0</td>\n",
       "    </tr>\n",
       "    <tr>\n",
       "      <th>6</th>\n",
       "      <td>0</td>\n",
       "      <td>0</td>\n",
       "      <td>0</td>\n",
       "      <td>48</td>\n",
       "    </tr>\n",
       "    <tr>\n",
       "      <th>7</th>\n",
       "      <td>0</td>\n",
       "      <td>0</td>\n",
       "      <td>0</td>\n",
       "      <td>41</td>\n",
       "    </tr>\n",
       "    <tr>\n",
       "      <th>8</th>\n",
       "      <td>0</td>\n",
       "      <td>0</td>\n",
       "      <td>0</td>\n",
       "      <td>29</td>\n",
       "    </tr>\n",
       "    <tr>\n",
       "      <th>9</th>\n",
       "      <td>0</td>\n",
       "      <td>35</td>\n",
       "      <td>0</td>\n",
       "      <td>0</td>\n",
       "    </tr>\n",
       "    <tr>\n",
       "      <th>10</th>\n",
       "      <td>0</td>\n",
       "      <td>46</td>\n",
       "      <td>0</td>\n",
       "      <td>0</td>\n",
       "    </tr>\n",
       "    <tr>\n",
       "      <th>11</th>\n",
       "      <td>0</td>\n",
       "      <td>43</td>\n",
       "      <td>0</td>\n",
       "      <td>0</td>\n",
       "    </tr>\n",
       "    <tr>\n",
       "      <th>12</th>\n",
       "      <td>0</td>\n",
       "      <td>0</td>\n",
       "      <td>42</td>\n",
       "      <td>0</td>\n",
       "    </tr>\n",
       "  </tbody>\n",
       "</table>\n",
       "</div>"
      ],
      "text/plain": [
       "season  Autumn  Spring  Summer  Winter\n",
       "date                                  \n",
       "1            0       0      46       0\n",
       "2            0       0      42       0\n",
       "3           43       0       0       0\n",
       "4           42       0       0       0\n",
       "5           43       0       0       0\n",
       "6            0       0       0      48\n",
       "7            0       0       0      41\n",
       "8            0       0       0      29\n",
       "9            0      35       0       0\n",
       "10           0      46       0       0\n",
       "11           0      43       0       0\n",
       "12           0       0      42       0"
      ]
     },
     "execution_count": 52,
     "metadata": {},
     "output_type": "execute_result"
    }
   ],
   "source": [
    "#Corrected seasons according to months\n",
    "pd.crosstab(df_dirty_data['date'].dt.month,df_dirty_data['season'])"
   ]
  },
  {
   "cell_type": "markdown",
   "metadata": {},
   "source": [
    "<p>\n",
    "From the above crosstab we can see all dates have been correctly classified according to their dates.\n",
    "</p>"
   ]
  },
  {
   "cell_type": "markdown",
   "metadata": {},
   "source": [
    "## Customer review and Satisfaction - Semantic Errors"
   ]
  },
  {
   "cell_type": "markdown",
   "metadata": {},
   "source": [
    "<p>\n",
    "The final 2 columns are challenging to wrangling. For the customer statisfaction reviews, since we cannot know at this point of time what the customer was thinking while writing the review, we can in no meaningful way correct the errors within the column. \n",
    "\n",
    "Therefore we will lower case all the reviews for further analysis.\n",
    "\n",
    "<b>SentimentIntensityAnalyzer</b> from nltk.sentiment.vader is used to obtain the polarity score. \n",
    "    * Positive Sentiment : 'compound' polarity score >= 0.05 \n",
    "    * Negative Sentiment : 'compound' polarity score < 0.05 \n",
    "\n",
    "We will be fixing the is_happy_customer value by doing a sentiment analysis on the customer review and then based on the compound polarity score we will compute whether the customer is happy or not. \n",
    "\n",
    "</p>"
   ]
  },
  {
   "cell_type": "code",
   "execution_count": 53,
   "metadata": {},
   "outputs": [],
   "source": [
    "#Lower case all reviews\n",
    "df_dirty_data['latest_customer_review'] = df_dirty_data['latest_customer_review'].apply(lambda x:x.lower())\n",
    "#Initialize sentiment analyzer from nltk\n",
    "sid = SentimentIntensityAnalyzer()"
   ]
  },
  {
   "cell_type": "code",
   "execution_count": 54,
   "metadata": {
    "scrolled": true
   },
   "outputs": [],
   "source": [
    "#Do sentiment analysis on all the reviews the compound score is then stored in the new column\n",
    "df_dirty_data['polarity_score'] = df_dirty_data['latest_customer_review'].apply(lambda x:sid.polarity_scores(x)['compound'])"
   ]
  },
  {
   "cell_type": "code",
   "execution_count": 55,
   "metadata": {},
   "outputs": [
    {
     "data": {
      "text/html": [
       "<div>\n",
       "<style scoped>\n",
       "    .dataframe tbody tr th:only-of-type {\n",
       "        vertical-align: middle;\n",
       "    }\n",
       "\n",
       "    .dataframe tbody tr th {\n",
       "        vertical-align: top;\n",
       "    }\n",
       "\n",
       "    .dataframe thead th {\n",
       "        text-align: right;\n",
       "    }\n",
       "</style>\n",
       "<table border=\"1\" class=\"dataframe\">\n",
       "  <thead>\n",
       "    <tr style=\"text-align: right;\">\n",
       "      <th></th>\n",
       "      <th>latest_customer_review</th>\n",
       "      <th>polarity_score</th>\n",
       "      <th>is_happy_customer</th>\n",
       "    </tr>\n",
       "  </thead>\n",
       "  <tbody>\n",
       "    <tr>\n",
       "      <th>0</th>\n",
       "      <td>good! good!</td>\n",
       "      <td>0.7494</td>\n",
       "      <td>False</td>\n",
       "    </tr>\n",
       "    <tr>\n",
       "      <th>1</th>\n",
       "      <td>two stars battery life is too short and no pla...</td>\n",
       "      <td>-0.2960</td>\n",
       "      <td>True</td>\n",
       "    </tr>\n",
       "    <tr>\n",
       "      <th>9</th>\n",
       "      <td>none</td>\n",
       "      <td>0.0000</td>\n",
       "      <td>True</td>\n",
       "    </tr>\n",
       "    <tr>\n",
       "      <th>12</th>\n",
       "      <td>used phone a bit too used. received used phone...</td>\n",
       "      <td>-0.2732</td>\n",
       "      <td>True</td>\n",
       "    </tr>\n",
       "    <tr>\n",
       "      <th>46</th>\n",
       "      <td>olivia s10+ product is good but 11 days late f...</td>\n",
       "      <td>0.5994</td>\n",
       "      <td>False</td>\n",
       "    </tr>\n",
       "  </tbody>\n",
       "</table>\n",
       "</div>"
      ],
      "text/plain": [
       "                               latest_customer_review  polarity_score  \\\n",
       "0                                         good! good!          0.7494   \n",
       "1   two stars battery life is too short and no pla...         -0.2960   \n",
       "9                                                none          0.0000   \n",
       "12  used phone a bit too used. received used phone...         -0.2732   \n",
       "46  olivia s10+ product is good but 11 days late f...          0.5994   \n",
       "\n",
       "    is_happy_customer  \n",
       "0               False  \n",
       "1                True  \n",
       "9                True  \n",
       "12               True  \n",
       "46              False  "
      ]
     },
     "execution_count": 55,
     "metadata": {},
     "output_type": "execute_result"
    }
   ],
   "source": [
    "#based on our plarity score if the score is greater than 0.05 the customer should be classified as happy any less the customer is sad.\n",
    "#Based on the above condition we can write the below query\n",
    "#It checks if the polarity score is greater than 0.05 and is_happy_customer is false OR if the polarity score is less than 0.05 and is_happy_customer is True \n",
    "df_dirty_data.loc[((df_dirty_data['polarity_score']>0.05) \\\n",
    "                   & (df_dirty_data['is_happy_customer']!=True)) |\\\n",
    "                  ((df_dirty_data['polarity_score']<0.05) & (df_dirty_data['is_happy_customer']!=False)),['latest_customer_review','polarity_score','is_happy_customer']].head()"
   ]
  },
  {
   "cell_type": "code",
   "execution_count": 56,
   "metadata": {},
   "outputs": [],
   "source": [
    "#Based on above discussion we will be changing the required values\n",
    "#Same condition as in the above query are checked here\n",
    "df_dirty_data.loc[((df_dirty_data['polarity_score']>0.05) \\\n",
    "                   & (df_dirty_data['is_happy_customer']!=True)) |\\\n",
    "                  ((df_dirty_data['polarity_score']<0.05) & (df_dirty_data['is_happy_customer']!=False)),'is_happy_customer'] = \\\n",
    "df_dirty_data['polarity_score'].apply(lambda x: True if x >= 0.05 else False)"
   ]
  },
  {
   "cell_type": "code",
   "execution_count": 68,
   "metadata": {},
   "outputs": [
    {
     "data": {
      "text/html": [
       "<div>\n",
       "<style scoped>\n",
       "    .dataframe tbody tr th:only-of-type {\n",
       "        vertical-align: middle;\n",
       "    }\n",
       "\n",
       "    .dataframe tbody tr th {\n",
       "        vertical-align: top;\n",
       "    }\n",
       "\n",
       "    .dataframe thead th {\n",
       "        text-align: right;\n",
       "    }\n",
       "</style>\n",
       "<table border=\"1\" class=\"dataframe\">\n",
       "  <thead>\n",
       "    <tr style=\"text-align: right;\">\n",
       "      <th></th>\n",
       "      <th>order_id</th>\n",
       "      <th>customer_id</th>\n",
       "      <th>nearest_warehouse</th>\n",
       "      <th>shopping_cart</th>\n",
       "      <th>order_price</th>\n",
       "      <th>delivery_charges</th>\n",
       "      <th>customer_lat</th>\n",
       "      <th>customer_long</th>\n",
       "      <th>coupon_discount</th>\n",
       "      <th>order_total</th>\n",
       "      <th>...</th>\n",
       "      <th>is_expedited_delivery</th>\n",
       "      <th>distance_to_nearest_warehouse</th>\n",
       "      <th>latest_customer_review</th>\n",
       "      <th>is_happy_customer</th>\n",
       "      <th>date</th>\n",
       "      <th>shopping_cart_dict</th>\n",
       "      <th>cal_order_price</th>\n",
       "      <th>cal_order_total</th>\n",
       "      <th>computed_distance_to_nearest_warehouse</th>\n",
       "      <th>polarity_score</th>\n",
       "    </tr>\n",
       "  </thead>\n",
       "  <tbody>\n",
       "  </tbody>\n",
       "</table>\n",
       "<p>0 rows × 21 columns</p>\n",
       "</div>"
      ],
      "text/plain": [
       "Empty DataFrame\n",
       "Columns: [order_id, customer_id, nearest_warehouse, shopping_cart, order_price, delivery_charges, customer_lat, customer_long, coupon_discount, order_total, season, is_expedited_delivery, distance_to_nearest_warehouse, latest_customer_review, is_happy_customer, date, shopping_cart_dict, cal_order_price, cal_order_total, computed_distance_to_nearest_warehouse, polarity_score]\n",
       "Index: []\n",
       "\n",
       "[0 rows x 21 columns]"
      ]
     },
     "execution_count": 68,
     "metadata": {},
     "output_type": "execute_result"
    }
   ],
   "source": [
    "df_dirty_data.loc[((df_dirty_data['polarity_score']>0.05) \\\n",
    "                   & (df_dirty_data['is_happy_customer']!=True)) |\\\n",
    "                  ((df_dirty_data['polarity_score']<0.05) & (df_dirty_data['is_happy_customer']!=False))]"
   ]
  },
  {
   "cell_type": "code",
   "execution_count": 72,
   "metadata": {},
   "outputs": [
    {
     "data": {
      "text/html": [
       "<div>\n",
       "<style scoped>\n",
       "    .dataframe tbody tr th:only-of-type {\n",
       "        vertical-align: middle;\n",
       "    }\n",
       "\n",
       "    .dataframe tbody tr th {\n",
       "        vertical-align: top;\n",
       "    }\n",
       "\n",
       "    .dataframe thead th {\n",
       "        text-align: right;\n",
       "    }\n",
       "</style>\n",
       "<table border=\"1\" class=\"dataframe\">\n",
       "  <thead>\n",
       "    <tr style=\"text-align: right;\">\n",
       "      <th></th>\n",
       "      <th>order_id</th>\n",
       "      <th>customer_id</th>\n",
       "      <th>nearest_warehouse</th>\n",
       "      <th>shopping_cart</th>\n",
       "      <th>order_price</th>\n",
       "      <th>delivery_charges</th>\n",
       "      <th>customer_lat</th>\n",
       "      <th>customer_long</th>\n",
       "      <th>coupon_discount</th>\n",
       "      <th>order_total</th>\n",
       "      <th>...</th>\n",
       "      <th>is_expedited_delivery</th>\n",
       "      <th>distance_to_nearest_warehouse</th>\n",
       "      <th>latest_customer_review</th>\n",
       "      <th>is_happy_customer</th>\n",
       "      <th>date</th>\n",
       "      <th>shopping_cart_dict</th>\n",
       "      <th>cal_order_price</th>\n",
       "      <th>cal_order_total</th>\n",
       "      <th>computed_distance_to_nearest_warehouse</th>\n",
       "      <th>polarity_score</th>\n",
       "    </tr>\n",
       "  </thead>\n",
       "  <tbody>\n",
       "    <tr>\n",
       "      <th>0</th>\n",
       "      <td>ORD186940</td>\n",
       "      <td>ID1462398856</td>\n",
       "      <td>Bakers</td>\n",
       "      <td>[('Universe Note', 1), ('Olivia x460', 2), ('p...</td>\n",
       "      <td>12640.0</td>\n",
       "      <td>71.41</td>\n",
       "      <td>-37.820062</td>\n",
       "      <td>145.013224</td>\n",
       "      <td>5</td>\n",
       "      <td>12079.41</td>\n",
       "      <td>...</td>\n",
       "      <td>False</td>\n",
       "      <td>3.8438</td>\n",
       "      <td>good! good!</td>\n",
       "      <td>True</td>\n",
       "      <td>2019-07-18</td>\n",
       "      <td>{'Universe Note': 1, 'Olivia x460': 2, 'pearTV...</td>\n",
       "      <td>12640.0</td>\n",
       "      <td>12079.41</td>\n",
       "      <td>3.8438</td>\n",
       "      <td>0.7494</td>\n",
       "    </tr>\n",
       "    <tr>\n",
       "      <th>1</th>\n",
       "      <td>ORD394765</td>\n",
       "      <td>ID2189143649</td>\n",
       "      <td>Thompson</td>\n",
       "      <td>[('iStream', 2), ('iAssist Line', 1)]</td>\n",
       "      <td>2525.0</td>\n",
       "      <td>64.43</td>\n",
       "      <td>-37.809679</td>\n",
       "      <td>144.955368</td>\n",
       "      <td>25</td>\n",
       "      <td>1958.18</td>\n",
       "      <td>...</td>\n",
       "      <td>True</td>\n",
       "      <td>0.8023</td>\n",
       "      <td>two stars battery life is too short and no pla...</td>\n",
       "      <td>False</td>\n",
       "      <td>2019-05-20</td>\n",
       "      <td>{'iStream': 2, 'iAssist Line': 1}</td>\n",
       "      <td>2525.0</td>\n",
       "      <td>1958.18</td>\n",
       "      <td>0.8023</td>\n",
       "      <td>-0.2960</td>\n",
       "    </tr>\n",
       "    <tr>\n",
       "      <th>2</th>\n",
       "      <td>ORD342223</td>\n",
       "      <td>ID6282174139</td>\n",
       "      <td>Nickolson</td>\n",
       "      <td>[('Universe Note', 2), ('Thunder line', 1)]</td>\n",
       "      <td>9080.0</td>\n",
       "      <td>65.87</td>\n",
       "      <td>-37.823350</td>\n",
       "      <td>144.976545</td>\n",
       "      <td>25</td>\n",
       "      <td>6875.87</td>\n",
       "      <td>...</td>\n",
       "      <td>False</td>\n",
       "      <td>0.8114</td>\n",
       "      <td>five stars works perfectly</td>\n",
       "      <td>True</td>\n",
       "      <td>2019-06-15</td>\n",
       "      <td>{'Universe Note': 2, 'Thunder line': 1}</td>\n",
       "      <td>9080.0</td>\n",
       "      <td>6875.87</td>\n",
       "      <td>0.8114</td>\n",
       "      <td>0.6369</td>\n",
       "    </tr>\n",
       "    <tr>\n",
       "      <th>3</th>\n",
       "      <td>ORD120572</td>\n",
       "      <td>ID6167236637</td>\n",
       "      <td>Thompson</td>\n",
       "      <td>[('Alcon 10', 1), ('Toshika 750', 1), ('iStrea...</td>\n",
       "      <td>13420.0</td>\n",
       "      <td>80.16</td>\n",
       "      <td>-37.814340</td>\n",
       "      <td>144.954684</td>\n",
       "      <td>25</td>\n",
       "      <td>10145.16</td>\n",
       "      <td>...</td>\n",
       "      <td>False</td>\n",
       "      <td>0.6949</td>\n",
       "      <td>five stars just perfect (even if att aps are u...</td>\n",
       "      <td>True</td>\n",
       "      <td>2019-04-24</td>\n",
       "      <td>{'Alcon 10': 1, 'Toshika 750': 1, 'iStream': 1}</td>\n",
       "      <td>13420.0</td>\n",
       "      <td>10145.16</td>\n",
       "      <td>0.6949</td>\n",
       "      <td>0.5719</td>\n",
       "    </tr>\n",
       "    <tr>\n",
       "      <th>4</th>\n",
       "      <td>ORD431408</td>\n",
       "      <td>ID0579384316</td>\n",
       "      <td>Thompson</td>\n",
       "      <td>[('iAssist Line', 2), ('Alcon 10', 1), ('iStre...</td>\n",
       "      <td>18020.0</td>\n",
       "      <td>66.79</td>\n",
       "      <td>-37.825247</td>\n",
       "      <td>144.944797</td>\n",
       "      <td>10</td>\n",
       "      <td>16284.79</td>\n",
       "      <td>...</td>\n",
       "      <td>False</td>\n",
       "      <td>1.4139</td>\n",
       "      <td>the battery life is real bad the phones that c...</td>\n",
       "      <td>False</td>\n",
       "      <td>2019-11-04</td>\n",
       "      <td>{'iAssist Line': 2, 'Alcon 10': 1, 'iStream': ...</td>\n",
       "      <td>18020.0</td>\n",
       "      <td>16284.79</td>\n",
       "      <td>1.4139</td>\n",
       "      <td>-0.7906</td>\n",
       "    </tr>\n",
       "    <tr>\n",
       "      <th>...</th>\n",
       "      <td>...</td>\n",
       "      <td>...</td>\n",
       "      <td>...</td>\n",
       "      <td>...</td>\n",
       "      <td>...</td>\n",
       "      <td>...</td>\n",
       "      <td>...</td>\n",
       "      <td>...</td>\n",
       "      <td>...</td>\n",
       "      <td>...</td>\n",
       "      <td>...</td>\n",
       "      <td>...</td>\n",
       "      <td>...</td>\n",
       "      <td>...</td>\n",
       "      <td>...</td>\n",
       "      <td>...</td>\n",
       "      <td>...</td>\n",
       "      <td>...</td>\n",
       "      <td>...</td>\n",
       "      <td>...</td>\n",
       "      <td>...</td>\n",
       "    </tr>\n",
       "    <tr>\n",
       "      <th>495</th>\n",
       "      <td>ORD037521</td>\n",
       "      <td>ID6167191743</td>\n",
       "      <td>Nickolson</td>\n",
       "      <td>[('pearTV', 2), ('Toshika 750', 1), ('Universe...</td>\n",
       "      <td>26300.0</td>\n",
       "      <td>63.15</td>\n",
       "      <td>-37.814137</td>\n",
       "      <td>144.971612</td>\n",
       "      <td>15</td>\n",
       "      <td>22418.15</td>\n",
       "      <td>...</td>\n",
       "      <td>False</td>\n",
       "      <td>0.5283</td>\n",
       "      <td>five stars these went to friends in mexico and...</td>\n",
       "      <td>True</td>\n",
       "      <td>2019-03-11</td>\n",
       "      <td>{'pearTV': 2, 'Toshika 750': 1, 'Universe Note...</td>\n",
       "      <td>26300.0</td>\n",
       "      <td>22418.15</td>\n",
       "      <td>0.5283</td>\n",
       "      <td>0.8074</td>\n",
       "    </tr>\n",
       "    <tr>\n",
       "      <th>496</th>\n",
       "      <td>ORD250749</td>\n",
       "      <td>ID0638051253</td>\n",
       "      <td>Nickolson</td>\n",
       "      <td>[('Lucent 330S', 2), ('Candle Inferno', 1)]</td>\n",
       "      <td>2890.0</td>\n",
       "      <td>83.87</td>\n",
       "      <td>-37.818078</td>\n",
       "      <td>144.966135</td>\n",
       "      <td>25</td>\n",
       "      <td>2251.37</td>\n",
       "      <td>...</td>\n",
       "      <td>True</td>\n",
       "      <td>0.3058</td>\n",
       "      <td>not durable i used to love toshika's phones, i...</td>\n",
       "      <td>False</td>\n",
       "      <td>2019-10-31</td>\n",
       "      <td>{'Lucent 330S': 2, 'Candle Inferno': 1}</td>\n",
       "      <td>2890.0</td>\n",
       "      <td>2251.37</td>\n",
       "      <td>0.3058</td>\n",
       "      <td>-0.0694</td>\n",
       "    </tr>\n",
       "    <tr>\n",
       "      <th>497</th>\n",
       "      <td>ORD046286</td>\n",
       "      <td>ID1560149605</td>\n",
       "      <td>Thompson</td>\n",
       "      <td>[('Toshika 750', 2), ('Thunder line', 1), ('Un...</td>\n",
       "      <td>18945.0</td>\n",
       "      <td>79.98</td>\n",
       "      <td>-37.815504</td>\n",
       "      <td>144.937708</td>\n",
       "      <td>10</td>\n",
       "      <td>17130.48</td>\n",
       "      <td>...</td>\n",
       "      <td>True</td>\n",
       "      <td>0.8815</td>\n",
       "      <td>i received an thunder as a gift, loved it so m...</td>\n",
       "      <td>True</td>\n",
       "      <td>2019-08-02</td>\n",
       "      <td>{'Toshika 750': 2, 'Thunder line': 1, 'Univers...</td>\n",
       "      <td>18945.0</td>\n",
       "      <td>17130.48</td>\n",
       "      <td>0.8815</td>\n",
       "      <td>0.6701</td>\n",
       "    </tr>\n",
       "    <tr>\n",
       "      <th>498</th>\n",
       "      <td>ORD244621</td>\n",
       "      <td>ID0387152925</td>\n",
       "      <td>Thompson</td>\n",
       "      <td>[('Universe Note', 1), ('Alcon 10', 1), ('Tosh...</td>\n",
       "      <td>16720.0</td>\n",
       "      <td>63.03</td>\n",
       "      <td>-37.806220</td>\n",
       "      <td>144.944859</td>\n",
       "      <td>15</td>\n",
       "      <td>14275.03</td>\n",
       "      <td>...</td>\n",
       "      <td>False</td>\n",
       "      <td>0.7442</td>\n",
       "      <td>my husband and i have totally enjoyed owning t...</td>\n",
       "      <td>True</td>\n",
       "      <td>2019-08-25</td>\n",
       "      <td>{'Universe Note': 1, 'Alcon 10': 1, 'Toshika 7...</td>\n",
       "      <td>16720.0</td>\n",
       "      <td>14275.03</td>\n",
       "      <td>0.7442</td>\n",
       "      <td>0.7884</td>\n",
       "    </tr>\n",
       "    <tr>\n",
       "      <th>499</th>\n",
       "      <td>ORD364509</td>\n",
       "      <td>ID4350551010</td>\n",
       "      <td>Thompson</td>\n",
       "      <td>[('iAssist Line', 2), ('Lucent 330S', 1)]</td>\n",
       "      <td>5680.0</td>\n",
       "      <td>87.09</td>\n",
       "      <td>-37.799006</td>\n",
       "      <td>144.963164</td>\n",
       "      <td>5</td>\n",
       "      <td>5483.09</td>\n",
       "      <td>...</td>\n",
       "      <td>False</td>\n",
       "      <td>2.0781</td>\n",
       "      <td>five stars i loved it! i love xp and this cell...</td>\n",
       "      <td>True</td>\n",
       "      <td>2019-02-05</td>\n",
       "      <td>{'iAssist Line': 2, 'Lucent 330S': 1}</td>\n",
       "      <td>5680.0</td>\n",
       "      <td>5483.09</td>\n",
       "      <td>2.0781</td>\n",
       "      <td>0.9441</td>\n",
       "    </tr>\n",
       "  </tbody>\n",
       "</table>\n",
       "<p>500 rows × 21 columns</p>\n",
       "</div>"
      ],
      "text/plain": [
       "      order_id   customer_id nearest_warehouse  \\\n",
       "0    ORD186940  ID1462398856            Bakers   \n",
       "1    ORD394765  ID2189143649          Thompson   \n",
       "2    ORD342223  ID6282174139         Nickolson   \n",
       "3    ORD120572  ID6167236637          Thompson   \n",
       "4    ORD431408  ID0579384316          Thompson   \n",
       "..         ...           ...               ...   \n",
       "495  ORD037521  ID6167191743         Nickolson   \n",
       "496  ORD250749  ID0638051253         Nickolson   \n",
       "497  ORD046286  ID1560149605          Thompson   \n",
       "498  ORD244621  ID0387152925          Thompson   \n",
       "499  ORD364509  ID4350551010          Thompson   \n",
       "\n",
       "                                         shopping_cart  order_price  \\\n",
       "0    [('Universe Note', 1), ('Olivia x460', 2), ('p...      12640.0   \n",
       "1                [('iStream', 2), ('iAssist Line', 1)]       2525.0   \n",
       "2          [('Universe Note', 2), ('Thunder line', 1)]       9080.0   \n",
       "3    [('Alcon 10', 1), ('Toshika 750', 1), ('iStrea...      13420.0   \n",
       "4    [('iAssist Line', 2), ('Alcon 10', 1), ('iStre...      18020.0   \n",
       "..                                                 ...          ...   \n",
       "495  [('pearTV', 2), ('Toshika 750', 1), ('Universe...      26300.0   \n",
       "496        [('Lucent 330S', 2), ('Candle Inferno', 1)]       2890.0   \n",
       "497  [('Toshika 750', 2), ('Thunder line', 1), ('Un...      18945.0   \n",
       "498  [('Universe Note', 1), ('Alcon 10', 1), ('Tosh...      16720.0   \n",
       "499          [('iAssist Line', 2), ('Lucent 330S', 1)]       5680.0   \n",
       "\n",
       "     delivery_charges  customer_lat  customer_long  coupon_discount  \\\n",
       "0               71.41    -37.820062     145.013224                5   \n",
       "1               64.43    -37.809679     144.955368               25   \n",
       "2               65.87    -37.823350     144.976545               25   \n",
       "3               80.16    -37.814340     144.954684               25   \n",
       "4               66.79    -37.825247     144.944797               10   \n",
       "..                ...           ...            ...              ...   \n",
       "495             63.15    -37.814137     144.971612               15   \n",
       "496             83.87    -37.818078     144.966135               25   \n",
       "497             79.98    -37.815504     144.937708               10   \n",
       "498             63.03    -37.806220     144.944859               15   \n",
       "499             87.09    -37.799006     144.963164                5   \n",
       "\n",
       "     order_total  ... is_expedited_delivery  distance_to_nearest_warehouse  \\\n",
       "0       12079.41  ...                 False                         3.8438   \n",
       "1        1958.18  ...                  True                         0.8023   \n",
       "2        6875.87  ...                 False                         0.8114   \n",
       "3       10145.16  ...                 False                         0.6949   \n",
       "4       16284.79  ...                 False                         1.4139   \n",
       "..           ...  ...                   ...                            ...   \n",
       "495     22418.15  ...                 False                         0.5283   \n",
       "496      2251.37  ...                  True                         0.3058   \n",
       "497     17130.48  ...                  True                         0.8815   \n",
       "498     14275.03  ...                 False                         0.7442   \n",
       "499      5483.09  ...                 False                         2.0781   \n",
       "\n",
       "                                latest_customer_review is_happy_customer  \\\n",
       "0                                          good! good!              True   \n",
       "1    two stars battery life is too short and no pla...             False   \n",
       "2                           five stars works perfectly              True   \n",
       "3    five stars just perfect (even if att aps are u...              True   \n",
       "4    the battery life is real bad the phones that c...             False   \n",
       "..                                                 ...               ...   \n",
       "495  five stars these went to friends in mexico and...              True   \n",
       "496  not durable i used to love toshika's phones, i...             False   \n",
       "497  i received an thunder as a gift, loved it so m...              True   \n",
       "498  my husband and i have totally enjoyed owning t...              True   \n",
       "499  five stars i loved it! i love xp and this cell...              True   \n",
       "\n",
       "          date                                 shopping_cart_dict  \\\n",
       "0   2019-07-18  {'Universe Note': 1, 'Olivia x460': 2, 'pearTV...   \n",
       "1   2019-05-20                  {'iStream': 2, 'iAssist Line': 1}   \n",
       "2   2019-06-15            {'Universe Note': 2, 'Thunder line': 1}   \n",
       "3   2019-04-24    {'Alcon 10': 1, 'Toshika 750': 1, 'iStream': 1}   \n",
       "4   2019-11-04  {'iAssist Line': 2, 'Alcon 10': 1, 'iStream': ...   \n",
       "..         ...                                                ...   \n",
       "495 2019-03-11  {'pearTV': 2, 'Toshika 750': 1, 'Universe Note...   \n",
       "496 2019-10-31            {'Lucent 330S': 2, 'Candle Inferno': 1}   \n",
       "497 2019-08-02  {'Toshika 750': 2, 'Thunder line': 1, 'Univers...   \n",
       "498 2019-08-25  {'Universe Note': 1, 'Alcon 10': 1, 'Toshika 7...   \n",
       "499 2019-02-05              {'iAssist Line': 2, 'Lucent 330S': 1}   \n",
       "\n",
       "    cal_order_price  cal_order_total  computed_distance_to_nearest_warehouse  \\\n",
       "0           12640.0         12079.41                                  3.8438   \n",
       "1            2525.0          1958.18                                  0.8023   \n",
       "2            9080.0          6875.87                                  0.8114   \n",
       "3           13420.0         10145.16                                  0.6949   \n",
       "4           18020.0         16284.79                                  1.4139   \n",
       "..              ...              ...                                     ...   \n",
       "495         26300.0         22418.15                                  0.5283   \n",
       "496          2890.0          2251.37                                  0.3058   \n",
       "497         18945.0         17130.48                                  0.8815   \n",
       "498         16720.0         14275.03                                  0.7442   \n",
       "499          5680.0          5483.09                                  2.0781   \n",
       "\n",
       "     polarity_score  \n",
       "0            0.7494  \n",
       "1           -0.2960  \n",
       "2            0.6369  \n",
       "3            0.5719  \n",
       "4           -0.7906  \n",
       "..              ...  \n",
       "495          0.8074  \n",
       "496         -0.0694  \n",
       "497          0.6701  \n",
       "498          0.7884  \n",
       "499          0.9441  \n",
       "\n",
       "[500 rows x 21 columns]"
      ]
     },
     "execution_count": 72,
     "metadata": {},
     "output_type": "execute_result"
    }
   ],
   "source": [
    "df_dirty_data"
   ]
  },
  {
   "cell_type": "code",
   "execution_count": 88,
   "metadata": {},
   "outputs": [
    {
     "data": {
      "text/html": [
       "<div>\n",
       "<style scoped>\n",
       "    .dataframe tbody tr th:only-of-type {\n",
       "        vertical-align: middle;\n",
       "    }\n",
       "\n",
       "    .dataframe tbody tr th {\n",
       "        vertical-align: top;\n",
       "    }\n",
       "\n",
       "    .dataframe thead th {\n",
       "        text-align: right;\n",
       "    }\n",
       "</style>\n",
       "<table border=\"1\" class=\"dataframe\">\n",
       "  <thead>\n",
       "    <tr style=\"text-align: right;\">\n",
       "      <th></th>\n",
       "      <th>order_id</th>\n",
       "      <th>customer_id</th>\n",
       "      <th>nearest_warehouse</th>\n",
       "      <th>shopping_cart</th>\n",
       "      <th>order_price</th>\n",
       "      <th>delivery_charges</th>\n",
       "      <th>customer_lat</th>\n",
       "      <th>customer_long</th>\n",
       "      <th>coupon_discount</th>\n",
       "      <th>order_total</th>\n",
       "      <th>...</th>\n",
       "      <th>is_expedited_delivery</th>\n",
       "      <th>distance_to_nearest_warehouse</th>\n",
       "      <th>latest_customer_review</th>\n",
       "      <th>is_happy_customer</th>\n",
       "      <th>date</th>\n",
       "      <th>shopping_cart_dict</th>\n",
       "      <th>cal_order_price</th>\n",
       "      <th>cal_order_total</th>\n",
       "      <th>computed_distance_to_nearest_warehouse</th>\n",
       "      <th>polarity_score</th>\n",
       "    </tr>\n",
       "  </thead>\n",
       "  <tbody>\n",
       "  </tbody>\n",
       "</table>\n",
       "<p>0 rows × 21 columns</p>\n",
       "</div>"
      ],
      "text/plain": [
       "Empty DataFrame\n",
       "Columns: [order_id, customer_id, nearest_warehouse, shopping_cart, order_price, delivery_charges, customer_lat, customer_long, coupon_discount, order_total, season, is_expedited_delivery, distance_to_nearest_warehouse, latest_customer_review, is_happy_customer, date, shopping_cart_dict, cal_order_price, cal_order_total, computed_distance_to_nearest_warehouse, polarity_score]\n",
       "Index: []\n",
       "\n",
       "[0 rows x 21 columns]"
      ]
     },
     "execution_count": 88,
     "metadata": {},
     "output_type": "execute_result"
    }
   ],
   "source": [
    "#Check for null rows\n",
    "df_dirty_data[df_dirty_data.isna().any(axis=1)]"
   ]
  },
  {
   "cell_type": "code",
   "execution_count": 89,
   "metadata": {},
   "outputs": [
    {
     "data": {
      "text/html": [
       "<div>\n",
       "<style scoped>\n",
       "    .dataframe tbody tr th:only-of-type {\n",
       "        vertical-align: middle;\n",
       "    }\n",
       "\n",
       "    .dataframe tbody tr th {\n",
       "        vertical-align: top;\n",
       "    }\n",
       "\n",
       "    .dataframe thead th {\n",
       "        text-align: right;\n",
       "    }\n",
       "</style>\n",
       "<table border=\"1\" class=\"dataframe\">\n",
       "  <thead>\n",
       "    <tr style=\"text-align: right;\">\n",
       "      <th></th>\n",
       "      <th>order_id</th>\n",
       "      <th>customer_id</th>\n",
       "      <th>nearest_warehouse</th>\n",
       "      <th>shopping_cart</th>\n",
       "      <th>order_price</th>\n",
       "      <th>delivery_charges</th>\n",
       "      <th>customer_lat</th>\n",
       "      <th>customer_long</th>\n",
       "      <th>coupon_discount</th>\n",
       "      <th>order_total</th>\n",
       "      <th>...</th>\n",
       "      <th>is_expedited_delivery</th>\n",
       "      <th>distance_to_nearest_warehouse</th>\n",
       "      <th>latest_customer_review</th>\n",
       "      <th>is_happy_customer</th>\n",
       "      <th>date</th>\n",
       "      <th>shopping_cart_dict</th>\n",
       "      <th>cal_order_price</th>\n",
       "      <th>cal_order_total</th>\n",
       "      <th>computed_distance_to_nearest_warehouse</th>\n",
       "      <th>polarity_score</th>\n",
       "    </tr>\n",
       "  </thead>\n",
       "  <tbody>\n",
       "    <tr>\n",
       "      <th>0</th>\n",
       "      <td>ORD186940</td>\n",
       "      <td>ID1462398856</td>\n",
       "      <td>Bakers</td>\n",
       "      <td>[('Universe Note', 1), ('Olivia x460', 2), ('p...</td>\n",
       "      <td>12640.0</td>\n",
       "      <td>71.41</td>\n",
       "      <td>-37.820062</td>\n",
       "      <td>145.013224</td>\n",
       "      <td>5</td>\n",
       "      <td>12079.41</td>\n",
       "      <td>...</td>\n",
       "      <td>False</td>\n",
       "      <td>3.8438</td>\n",
       "      <td>good! good!</td>\n",
       "      <td>True</td>\n",
       "      <td>2019-07-18</td>\n",
       "      <td>{'Universe Note': 1, 'Olivia x460': 2, 'pearTV...</td>\n",
       "      <td>12640.0</td>\n",
       "      <td>12079.41</td>\n",
       "      <td>3.8438</td>\n",
       "      <td>0.7494</td>\n",
       "    </tr>\n",
       "    <tr>\n",
       "      <th>1</th>\n",
       "      <td>ORD394765</td>\n",
       "      <td>ID2189143649</td>\n",
       "      <td>Thompson</td>\n",
       "      <td>[('iStream', 2), ('iAssist Line', 1)]</td>\n",
       "      <td>2525.0</td>\n",
       "      <td>64.43</td>\n",
       "      <td>-37.809679</td>\n",
       "      <td>144.955368</td>\n",
       "      <td>25</td>\n",
       "      <td>1958.18</td>\n",
       "      <td>...</td>\n",
       "      <td>True</td>\n",
       "      <td>0.8023</td>\n",
       "      <td>two stars battery life is too short and no pla...</td>\n",
       "      <td>False</td>\n",
       "      <td>2019-05-20</td>\n",
       "      <td>{'iStream': 2, 'iAssist Line': 1}</td>\n",
       "      <td>2525.0</td>\n",
       "      <td>1958.18</td>\n",
       "      <td>0.8023</td>\n",
       "      <td>-0.2960</td>\n",
       "    </tr>\n",
       "    <tr>\n",
       "      <th>2</th>\n",
       "      <td>ORD342223</td>\n",
       "      <td>ID6282174139</td>\n",
       "      <td>Nickolson</td>\n",
       "      <td>[('Universe Note', 2), ('Thunder line', 1)]</td>\n",
       "      <td>9080.0</td>\n",
       "      <td>65.87</td>\n",
       "      <td>-37.823350</td>\n",
       "      <td>144.976545</td>\n",
       "      <td>25</td>\n",
       "      <td>6875.87</td>\n",
       "      <td>...</td>\n",
       "      <td>False</td>\n",
       "      <td>0.8114</td>\n",
       "      <td>five stars works perfectly</td>\n",
       "      <td>True</td>\n",
       "      <td>2019-06-15</td>\n",
       "      <td>{'Universe Note': 2, 'Thunder line': 1}</td>\n",
       "      <td>9080.0</td>\n",
       "      <td>6875.87</td>\n",
       "      <td>0.8114</td>\n",
       "      <td>0.6369</td>\n",
       "    </tr>\n",
       "    <tr>\n",
       "      <th>3</th>\n",
       "      <td>ORD120572</td>\n",
       "      <td>ID6167236637</td>\n",
       "      <td>Thompson</td>\n",
       "      <td>[('Alcon 10', 1), ('Toshika 750', 1), ('iStrea...</td>\n",
       "      <td>13420.0</td>\n",
       "      <td>80.16</td>\n",
       "      <td>-37.814340</td>\n",
       "      <td>144.954684</td>\n",
       "      <td>25</td>\n",
       "      <td>10145.16</td>\n",
       "      <td>...</td>\n",
       "      <td>False</td>\n",
       "      <td>0.6949</td>\n",
       "      <td>five stars just perfect (even if att aps are u...</td>\n",
       "      <td>True</td>\n",
       "      <td>2019-04-24</td>\n",
       "      <td>{'Alcon 10': 1, 'Toshika 750': 1, 'iStream': 1}</td>\n",
       "      <td>13420.0</td>\n",
       "      <td>10145.16</td>\n",
       "      <td>0.6949</td>\n",
       "      <td>0.5719</td>\n",
       "    </tr>\n",
       "    <tr>\n",
       "      <th>4</th>\n",
       "      <td>ORD431408</td>\n",
       "      <td>ID0579384316</td>\n",
       "      <td>Thompson</td>\n",
       "      <td>[('iAssist Line', 2), ('Alcon 10', 1), ('iStre...</td>\n",
       "      <td>18020.0</td>\n",
       "      <td>66.79</td>\n",
       "      <td>-37.825247</td>\n",
       "      <td>144.944797</td>\n",
       "      <td>10</td>\n",
       "      <td>16284.79</td>\n",
       "      <td>...</td>\n",
       "      <td>False</td>\n",
       "      <td>1.4139</td>\n",
       "      <td>the battery life is real bad the phones that c...</td>\n",
       "      <td>False</td>\n",
       "      <td>2019-11-04</td>\n",
       "      <td>{'iAssist Line': 2, 'Alcon 10': 1, 'iStream': ...</td>\n",
       "      <td>18020.0</td>\n",
       "      <td>16284.79</td>\n",
       "      <td>1.4139</td>\n",
       "      <td>-0.7906</td>\n",
       "    </tr>\n",
       "    <tr>\n",
       "      <th>...</th>\n",
       "      <td>...</td>\n",
       "      <td>...</td>\n",
       "      <td>...</td>\n",
       "      <td>...</td>\n",
       "      <td>...</td>\n",
       "      <td>...</td>\n",
       "      <td>...</td>\n",
       "      <td>...</td>\n",
       "      <td>...</td>\n",
       "      <td>...</td>\n",
       "      <td>...</td>\n",
       "      <td>...</td>\n",
       "      <td>...</td>\n",
       "      <td>...</td>\n",
       "      <td>...</td>\n",
       "      <td>...</td>\n",
       "      <td>...</td>\n",
       "      <td>...</td>\n",
       "      <td>...</td>\n",
       "      <td>...</td>\n",
       "      <td>...</td>\n",
       "    </tr>\n",
       "    <tr>\n",
       "      <th>495</th>\n",
       "      <td>ORD037521</td>\n",
       "      <td>ID6167191743</td>\n",
       "      <td>Nickolson</td>\n",
       "      <td>[('pearTV', 2), ('Toshika 750', 1), ('Universe...</td>\n",
       "      <td>26300.0</td>\n",
       "      <td>63.15</td>\n",
       "      <td>-37.814137</td>\n",
       "      <td>144.971612</td>\n",
       "      <td>15</td>\n",
       "      <td>22418.15</td>\n",
       "      <td>...</td>\n",
       "      <td>False</td>\n",
       "      <td>0.5283</td>\n",
       "      <td>five stars these went to friends in mexico and...</td>\n",
       "      <td>True</td>\n",
       "      <td>2019-03-11</td>\n",
       "      <td>{'pearTV': 2, 'Toshika 750': 1, 'Universe Note...</td>\n",
       "      <td>26300.0</td>\n",
       "      <td>22418.15</td>\n",
       "      <td>0.5283</td>\n",
       "      <td>0.8074</td>\n",
       "    </tr>\n",
       "    <tr>\n",
       "      <th>496</th>\n",
       "      <td>ORD250749</td>\n",
       "      <td>ID0638051253</td>\n",
       "      <td>Nickolson</td>\n",
       "      <td>[('Lucent 330S', 2), ('Candle Inferno', 1)]</td>\n",
       "      <td>2890.0</td>\n",
       "      <td>83.87</td>\n",
       "      <td>-37.818078</td>\n",
       "      <td>144.966135</td>\n",
       "      <td>25</td>\n",
       "      <td>2251.37</td>\n",
       "      <td>...</td>\n",
       "      <td>True</td>\n",
       "      <td>0.3058</td>\n",
       "      <td>not durable i used to love toshika's phones, i...</td>\n",
       "      <td>False</td>\n",
       "      <td>2019-10-31</td>\n",
       "      <td>{'Lucent 330S': 2, 'Candle Inferno': 1}</td>\n",
       "      <td>2890.0</td>\n",
       "      <td>2251.37</td>\n",
       "      <td>0.3058</td>\n",
       "      <td>-0.0694</td>\n",
       "    </tr>\n",
       "    <tr>\n",
       "      <th>497</th>\n",
       "      <td>ORD046286</td>\n",
       "      <td>ID1560149605</td>\n",
       "      <td>Thompson</td>\n",
       "      <td>[('Toshika 750', 2), ('Thunder line', 1), ('Un...</td>\n",
       "      <td>18945.0</td>\n",
       "      <td>79.98</td>\n",
       "      <td>-37.815504</td>\n",
       "      <td>144.937708</td>\n",
       "      <td>10</td>\n",
       "      <td>17130.48</td>\n",
       "      <td>...</td>\n",
       "      <td>True</td>\n",
       "      <td>0.8815</td>\n",
       "      <td>i received an thunder as a gift, loved it so m...</td>\n",
       "      <td>True</td>\n",
       "      <td>2019-08-02</td>\n",
       "      <td>{'Toshika 750': 2, 'Thunder line': 1, 'Univers...</td>\n",
       "      <td>18945.0</td>\n",
       "      <td>17130.48</td>\n",
       "      <td>0.8815</td>\n",
       "      <td>0.6701</td>\n",
       "    </tr>\n",
       "    <tr>\n",
       "      <th>498</th>\n",
       "      <td>ORD244621</td>\n",
       "      <td>ID0387152925</td>\n",
       "      <td>Thompson</td>\n",
       "      <td>[('Universe Note', 1), ('Alcon 10', 1), ('Tosh...</td>\n",
       "      <td>16720.0</td>\n",
       "      <td>63.03</td>\n",
       "      <td>-37.806220</td>\n",
       "      <td>144.944859</td>\n",
       "      <td>15</td>\n",
       "      <td>14275.03</td>\n",
       "      <td>...</td>\n",
       "      <td>False</td>\n",
       "      <td>0.7442</td>\n",
       "      <td>my husband and i have totally enjoyed owning t...</td>\n",
       "      <td>True</td>\n",
       "      <td>2019-08-25</td>\n",
       "      <td>{'Universe Note': 1, 'Alcon 10': 1, 'Toshika 7...</td>\n",
       "      <td>16720.0</td>\n",
       "      <td>14275.03</td>\n",
       "      <td>0.7442</td>\n",
       "      <td>0.7884</td>\n",
       "    </tr>\n",
       "    <tr>\n",
       "      <th>499</th>\n",
       "      <td>ORD364509</td>\n",
       "      <td>ID4350551010</td>\n",
       "      <td>Thompson</td>\n",
       "      <td>[('iAssist Line', 2), ('Lucent 330S', 1)]</td>\n",
       "      <td>5680.0</td>\n",
       "      <td>87.09</td>\n",
       "      <td>-37.799006</td>\n",
       "      <td>144.963164</td>\n",
       "      <td>5</td>\n",
       "      <td>5483.09</td>\n",
       "      <td>...</td>\n",
       "      <td>False</td>\n",
       "      <td>2.0781</td>\n",
       "      <td>five stars i loved it! i love xp and this cell...</td>\n",
       "      <td>True</td>\n",
       "      <td>2019-02-05</td>\n",
       "      <td>{'iAssist Line': 2, 'Lucent 330S': 1}</td>\n",
       "      <td>5680.0</td>\n",
       "      <td>5483.09</td>\n",
       "      <td>2.0781</td>\n",
       "      <td>0.9441</td>\n",
       "    </tr>\n",
       "  </tbody>\n",
       "</table>\n",
       "<p>500 rows × 21 columns</p>\n",
       "</div>"
      ],
      "text/plain": [
       "      order_id   customer_id nearest_warehouse  \\\n",
       "0    ORD186940  ID1462398856            Bakers   \n",
       "1    ORD394765  ID2189143649          Thompson   \n",
       "2    ORD342223  ID6282174139         Nickolson   \n",
       "3    ORD120572  ID6167236637          Thompson   \n",
       "4    ORD431408  ID0579384316          Thompson   \n",
       "..         ...           ...               ...   \n",
       "495  ORD037521  ID6167191743         Nickolson   \n",
       "496  ORD250749  ID0638051253         Nickolson   \n",
       "497  ORD046286  ID1560149605          Thompson   \n",
       "498  ORD244621  ID0387152925          Thompson   \n",
       "499  ORD364509  ID4350551010          Thompson   \n",
       "\n",
       "                                         shopping_cart  order_price  \\\n",
       "0    [('Universe Note', 1), ('Olivia x460', 2), ('p...      12640.0   \n",
       "1                [('iStream', 2), ('iAssist Line', 1)]       2525.0   \n",
       "2          [('Universe Note', 2), ('Thunder line', 1)]       9080.0   \n",
       "3    [('Alcon 10', 1), ('Toshika 750', 1), ('iStrea...      13420.0   \n",
       "4    [('iAssist Line', 2), ('Alcon 10', 1), ('iStre...      18020.0   \n",
       "..                                                 ...          ...   \n",
       "495  [('pearTV', 2), ('Toshika 750', 1), ('Universe...      26300.0   \n",
       "496        [('Lucent 330S', 2), ('Candle Inferno', 1)]       2890.0   \n",
       "497  [('Toshika 750', 2), ('Thunder line', 1), ('Un...      18945.0   \n",
       "498  [('Universe Note', 1), ('Alcon 10', 1), ('Tosh...      16720.0   \n",
       "499          [('iAssist Line', 2), ('Lucent 330S', 1)]       5680.0   \n",
       "\n",
       "     delivery_charges  customer_lat  customer_long  coupon_discount  \\\n",
       "0               71.41    -37.820062     145.013224                5   \n",
       "1               64.43    -37.809679     144.955368               25   \n",
       "2               65.87    -37.823350     144.976545               25   \n",
       "3               80.16    -37.814340     144.954684               25   \n",
       "4               66.79    -37.825247     144.944797               10   \n",
       "..                ...           ...            ...              ...   \n",
       "495             63.15    -37.814137     144.971612               15   \n",
       "496             83.87    -37.818078     144.966135               25   \n",
       "497             79.98    -37.815504     144.937708               10   \n",
       "498             63.03    -37.806220     144.944859               15   \n",
       "499             87.09    -37.799006     144.963164                5   \n",
       "\n",
       "     order_total  ... is_expedited_delivery  distance_to_nearest_warehouse  \\\n",
       "0       12079.41  ...                 False                         3.8438   \n",
       "1        1958.18  ...                  True                         0.8023   \n",
       "2        6875.87  ...                 False                         0.8114   \n",
       "3       10145.16  ...                 False                         0.6949   \n",
       "4       16284.79  ...                 False                         1.4139   \n",
       "..           ...  ...                   ...                            ...   \n",
       "495     22418.15  ...                 False                         0.5283   \n",
       "496      2251.37  ...                  True                         0.3058   \n",
       "497     17130.48  ...                  True                         0.8815   \n",
       "498     14275.03  ...                 False                         0.7442   \n",
       "499      5483.09  ...                 False                         2.0781   \n",
       "\n",
       "                                latest_customer_review is_happy_customer  \\\n",
       "0                                          good! good!              True   \n",
       "1    two stars battery life is too short and no pla...             False   \n",
       "2                           five stars works perfectly              True   \n",
       "3    five stars just perfect (even if att aps are u...              True   \n",
       "4    the battery life is real bad the phones that c...             False   \n",
       "..                                                 ...               ...   \n",
       "495  five stars these went to friends in mexico and...              True   \n",
       "496  not durable i used to love toshika's phones, i...             False   \n",
       "497  i received an thunder as a gift, loved it so m...              True   \n",
       "498  my husband and i have totally enjoyed owning t...              True   \n",
       "499  five stars i loved it! i love xp and this cell...              True   \n",
       "\n",
       "          date                                 shopping_cart_dict  \\\n",
       "0   2019-07-18  {'Universe Note': 1, 'Olivia x460': 2, 'pearTV...   \n",
       "1   2019-05-20                  {'iStream': 2, 'iAssist Line': 1}   \n",
       "2   2019-06-15            {'Universe Note': 2, 'Thunder line': 1}   \n",
       "3   2019-04-24    {'Alcon 10': 1, 'Toshika 750': 1, 'iStream': 1}   \n",
       "4   2019-11-04  {'iAssist Line': 2, 'Alcon 10': 1, 'iStream': ...   \n",
       "..         ...                                                ...   \n",
       "495 2019-03-11  {'pearTV': 2, 'Toshika 750': 1, 'Universe Note...   \n",
       "496 2019-10-31            {'Lucent 330S': 2, 'Candle Inferno': 1}   \n",
       "497 2019-08-02  {'Toshika 750': 2, 'Thunder line': 1, 'Univers...   \n",
       "498 2019-08-25  {'Universe Note': 1, 'Alcon 10': 1, 'Toshika 7...   \n",
       "499 2019-02-05              {'iAssist Line': 2, 'Lucent 330S': 1}   \n",
       "\n",
       "    cal_order_price  cal_order_total  computed_distance_to_nearest_warehouse  \\\n",
       "0           12640.0         12079.41                                  3.8438   \n",
       "1            2525.0          1958.18                                  0.8023   \n",
       "2            9080.0          6875.87                                  0.8114   \n",
       "3           13420.0         10145.16                                  0.6949   \n",
       "4           18020.0         16284.79                                  1.4139   \n",
       "..              ...              ...                                     ...   \n",
       "495         26300.0         22418.15                                  0.5283   \n",
       "496          2890.0          2251.37                                  0.3058   \n",
       "497         18945.0         17130.48                                  0.8815   \n",
       "498         16720.0         14275.03                                  0.7442   \n",
       "499          5680.0          5483.09                                  2.0781   \n",
       "\n",
       "     polarity_score  \n",
       "0            0.7494  \n",
       "1           -0.2960  \n",
       "2            0.6369  \n",
       "3            0.5719  \n",
       "4           -0.7906  \n",
       "..              ...  \n",
       "495          0.8074  \n",
       "496         -0.0694  \n",
       "497          0.6701  \n",
       "498          0.7884  \n",
       "499          0.9441  \n",
       "\n",
       "[500 rows x 21 columns]"
      ]
     },
     "execution_count": 89,
     "metadata": {},
     "output_type": "execute_result"
    }
   ],
   "source": [
    "df_dirty_data"
   ]
  },
  {
   "cell_type": "markdown",
   "metadata": {},
   "source": [
    "<p> As we can see all data errors in each column has been solved</p>"
   ]
  },
  {
   "cell_type": "code",
   "execution_count": 91,
   "metadata": {},
   "outputs": [],
   "source": [
    "#Writing csv file\n",
    "cols = ['order_id','customer_id','date','nearest_warehouse','shopping_cart','order_price','delivery_charges','customer_lat','customer_long',\\\n",
    "       'coupon_discount', 'order_total', 'season', 'is_expedited_delivery',\\\n",
    "       'distance_to_nearest_warehouse', 'latest_customer_review',\\\n",
    "       'is_happy_customer']\n",
    "df_dirty_data[cols].to_csv('30539676_dirty_data_solution.csv',index=False)"
   ]
  },
  {
   "cell_type": "markdown",
   "metadata": {},
   "source": [
    "# 3. Methodology - Missing Data<a class=\"anchor\" id=\"sec_3\"></a>\n",
    "\n",
    "<p>\n",
    "In this dateset we will be calculating the missing data values using other columns and logic. From the below code block we canb see that we have missing values in the following columns:\n",
    "\n",
    "* <b>nearest_warehouse</b>:\n",
    "    * By using the funtion defined above we can calculate the nearest warehouse, thus filling the missing values.\n",
    "* <b>order_price</b>:\n",
    "    * By using the funtion defined above we can calculate the order_rpice, thus filling the missing values.\n",
    "* <b>delivery_charges</b>:\n",
    "    * As the delivery_charges are dependent on multiple factors as well as the season, i will be using a linear regression model, which is trained on the outlier dataset to predict the missing values. \n",
    "* <b>order_total</b>:\n",
    "    * Once all the other values are found, we can directly caluclate order_total using our previously defined funtion\n",
    "* <b>distance_to_nearest_warehouse</b>:    \n",
    "    * By using the funtion defined above we can calculate this distance, thus filling the missing values.\n",
    "* <b>is_happy_customer</b>:\n",
    "    * Based on the calculated compound polarity score we will be filling the missing values. The polarity score will be calculated using our defined fucntion.\n",
    "\n",
    "All these column are derivative and the missing values can be calculated from the other columns. However to fill the missing values in some of the rows we first have to fill the missing values in other column, hence the order in which we impute these missing values becomes important.\n",
    "\n",
    "</p>"
   ]
  },
  {
   "cell_type": "code",
   "execution_count": null,
   "metadata": {},
   "outputs": [],
   "source": [
    "df_missing_data.isna().sum()"
   ]
  },
  {
   "cell_type": "code",
   "execution_count": null,
   "metadata": {},
   "outputs": [],
   "source": [
    "df_missing_data.shape"
   ]
  },
  {
   "cell_type": "markdown",
   "metadata": {},
   "source": [
    "## Nearest Warehouse"
   ]
  },
  {
   "cell_type": "markdown",
   "metadata": {},
   "source": [
    "<p>\n",
    "Using the function we defined in our previous part we can fill the values for this column, as we have all the required data to compute this. i.e warehouse and customer latitude/longitude.\n",
    "</p>"
   ]
  },
  {
   "cell_type": "code",
   "execution_count": null,
   "metadata": {},
   "outputs": [],
   "source": [
    "df_missing_data[df_missing_data['nearest_warehouse'].isnull()]"
   ]
  },
  {
   "cell_type": "code",
   "execution_count": null,
   "metadata": {},
   "outputs": [],
   "source": [
    "#impute the missing values using the function previously defined\n",
    "df_missing_data.loc[df_missing_data['nearest_warehouse'].isnull(),'nearest_warehouse'] = df_missing_data.apply(lambda x: compute_the_nearest_warehouse(x)[0],axis=1)"
   ]
  },
  {
   "cell_type": "code",
   "execution_count": null,
   "metadata": {},
   "outputs": [],
   "source": [
    "#Check again if null values have been filled\n",
    "df_missing_data[df_missing_data['nearest_warehouse'].isnull()]"
   ]
  },
  {
   "cell_type": "markdown",
   "metadata": {},
   "source": [
    "## Distance to nearest warehouse"
   ]
  },
  {
   "cell_type": "markdown",
   "metadata": {},
   "source": [
    "<p>\n",
    "Again using the function defined in our previous part we can caluclate the values for this column.\n",
    "</p>"
   ]
  },
  {
   "cell_type": "code",
   "execution_count": null,
   "metadata": {},
   "outputs": [],
   "source": [
    "#Check for null values\n",
    "df_missing_data[df_missing_data['distance_to_nearest_warehouse'].isnull()].head()"
   ]
  },
  {
   "cell_type": "code",
   "execution_count": null,
   "metadata": {},
   "outputs": [],
   "source": [
    "#impute the missing values using the function previously defined\n",
    "df_missing_data.loc[df_missing_data['distance_to_nearest_warehouse'].isnull(),'distance_to_nearest_warehouse'] =df_missing_data.apply(lambda x: compute_the_nearest_warehouse(x)[1],axis=1)"
   ]
  },
  {
   "cell_type": "code",
   "execution_count": null,
   "metadata": {},
   "outputs": [],
   "source": [
    "#Check again if null values have been filled\n",
    "df_missing_data[df_missing_data['distance_to_nearest_warehouse'].isnull()]"
   ]
  },
  {
   "cell_type": "markdown",
   "metadata": {},
   "source": [
    "## Customer review and Satisfaction"
   ]
  },
  {
   "cell_type": "markdown",
   "metadata": {},
   "source": [
    "<p>\n",
    "Based on the customer review we can use the fucntion defined previously to calculate the polarity score and based on that we can impute the missing values for is_happy_customer.\n",
    "\n",
    "</p>"
   ]
  },
  {
   "cell_type": "code",
   "execution_count": null,
   "metadata": {},
   "outputs": [],
   "source": [
    "# Lower case the cusotmer reviews and initialize the sentiment intensity analyzer\n",
    "df_missing_data['latest_customer_review'] = df_missing_data['latest_customer_review'].apply(lambda x:x.lower())\n",
    "sid = SentimentIntensityAnalyzer()"
   ]
  },
  {
   "cell_type": "code",
   "execution_count": null,
   "metadata": {
    "scrolled": true
   },
   "outputs": [],
   "source": [
    "df_missing_data['polarity_score'] = df_missing_data['latest_customer_review'].apply(lambda x:sid.polarity_scores(x)['compound'])"
   ]
  },
  {
   "cell_type": "code",
   "execution_count": null,
   "metadata": {
    "scrolled": true
   },
   "outputs": [],
   "source": [
    "#Check for missing values\n",
    "df_missing_data.loc[df_missing_data['is_happy_customer'].isnull(),['order_id','is_happy_customer','polarity_score']]"
   ]
  },
  {
   "cell_type": "code",
   "execution_count": null,
   "metadata": {},
   "outputs": [],
   "source": [
    "#Impute the missing values\n",
    "df_missing_data.loc[df_missing_data['is_happy_customer'].isnull(),'is_happy_customer'] = df_missing_data['polarity_score'].apply(lambda x: 1 if x >= 0.05 else 0)"
   ]
  },
  {
   "cell_type": "code",
   "execution_count": null,
   "metadata": {},
   "outputs": [],
   "source": [
    "#Check again if null values have been filled\n",
    "df_missing_data[df_missing_data['is_happy_customer'].isnull()]"
   ]
  },
  {
   "cell_type": "markdown",
   "metadata": {},
   "source": [
    "## Order Price"
   ]
  },
  {
   "cell_type": "markdown",
   "metadata": {},
   "source": [
    "<p>\n",
    "\n",
    "Since there are no missing values in our shopping_cart attribute we can calculate the values of order_price based on items in the shopping_cart using our fucntion.\n",
    "\n",
    "</p>"
   ]
  },
  {
   "cell_type": "code",
   "execution_count": null,
   "metadata": {},
   "outputs": [],
   "source": [
    "#Converting the value in the column to a dictionary for easier manipulation later on\n",
    "df_missing_data['shopping_cart_dict'] = df_missing_data['shopping_cart'].apply(lambda x:dict(eval(x)))"
   ]
  },
  {
   "cell_type": "code",
   "execution_count": null,
   "metadata": {},
   "outputs": [],
   "source": [
    "#check for missing values\n",
    "df_missing_data[df_missing_data['order_price'].isnull()].head()"
   ]
  },
  {
   "cell_type": "code",
   "execution_count": null,
   "metadata": {},
   "outputs": [],
   "source": [
    "#Calculate using defined fucntion\n",
    "df_missing_data.loc[df_missing_data['order_price'].isnull(),'order_price'] = df_missing_data.apply(lambda x:cal_shopping_cart_price(x,item_to_price_dict),axis=1)"
   ]
  },
  {
   "cell_type": "code",
   "execution_count": null,
   "metadata": {},
   "outputs": [],
   "source": [
    "#Check again if null values have been filled\n",
    "df_missing_data[df_missing_data['order_price'].isnull()].head()"
   ]
  },
  {
   "cell_type": "markdown",
   "metadata": {},
   "source": [
    "## Delivery Charges"
   ]
  },
  {
   "cell_type": "markdown",
   "metadata": {},
   "source": [
    "<p>\n",
    "\n",
    "Imputing the values for delivery charges presents a problem. The value of delivery_charges depends on different factors. They are:\n",
    "* Distance between nearest warehosue and customer\n",
    "* whether the customer wants expedited delivery\n",
    "* Whether the customer was happy with his/her last purchase.\n",
    "\n",
    "Based on the above factors, we will need to compute the values of delivery_charges according to changing factors.\n",
    "\n",
    "We will be building a linear model per season that will linearly try to predict the value of a single order based on the above defined factors. Also since we have missing values in our current dataset, we will be using the outliers dataset to train ur models. As it is given in the assignment and form our observation below, the outliers present in that dataset will not effect our models for missing dataset as much.\n",
    "\n",
    "Moreover since both the dataset follow the same business rules our models mwill be able to accurately predict the missing values depending on seasons.\n",
    "</p>"
   ]
  },
  {
   "cell_type": "code",
   "execution_count": null,
   "metadata": {},
   "outputs": [],
   "source": [
    "df_missing_data.isnull().sum()"
   ]
  },
  {
   "cell_type": "code",
   "execution_count": null,
   "metadata": {},
   "outputs": [],
   "source": [
    "df_missing_data['season'].value_counts()"
   ]
  },
  {
   "cell_type": "markdown",
   "metadata": {},
   "source": [
    "<p>\n",
    "We first defined different datasets to train our model according to the season.\n",
    "\n",
    "</p>"
   ]
  },
  {
   "cell_type": "code",
   "execution_count": null,
   "metadata": {},
   "outputs": [],
   "source": [
    "df_Summer = df_outlier_data[df_outlier_data['season']=='Summer'][['delivery_charges','distance_to_nearest_warehouse','is_expedited_delivery','is_happy_customer']]\n",
    "df_Autumn = df_outlier_data[df_outlier_data['season']=='Autumn'][['delivery_charges','distance_to_nearest_warehouse','is_expedited_delivery','is_happy_customer']]\n",
    "df_Spring = df_outlier_data[df_outlier_data['season']=='Spring'][['delivery_charges','distance_to_nearest_warehouse','is_expedited_delivery','is_happy_customer']]\n",
    "df_Winter = df_outlier_data[df_outlier_data['season']=='Winter'][['delivery_charges','distance_to_nearest_warehouse','is_expedited_delivery','is_happy_customer']]"
   ]
  },
  {
   "cell_type": "markdown",
   "metadata": {},
   "source": [
    "<p>\n",
    "Now we will try to impute the missing values one by one for each season.\n",
    "\n",
    "For each of the season below the following steps are being taken place:\n",
    "\n",
    "1. Define a variable mask which has the condition of the season and whether the value for delivery_charges are null or not.\n",
    "2. Check for missing values using the mask.\n",
    "3. Create a linear model and fit it using the defined season subset of outliers dataset.\n",
    "4. Create a list of index with the null values.\n",
    "5. For corresponsing values in the dataframe for the list of index with null values predict the values using the build linear model.\n",
    "</p>"
   ]
  },
  {
   "cell_type": "markdown",
   "metadata": {},
   "source": [
    "## Summer "
   ]
  },
  {
   "cell_type": "code",
   "execution_count": null,
   "metadata": {},
   "outputs": [],
   "source": [
    "#1. Create a mask for summer and null\n",
    "mask = (df_missing_data.season=='Summer')&(df_missing_data.delivery_charges.isnull())"
   ]
  },
  {
   "cell_type": "code",
   "execution_count": null,
   "metadata": {},
   "outputs": [],
   "source": [
    "#2. Check for null values\n",
    "df_missing_data['delivery_charges'][mask]"
   ]
  },
  {
   "cell_type": "code",
   "execution_count": null,
   "metadata": {},
   "outputs": [],
   "source": [
    "#3. create and fit a linear model\n",
    "linearModel = LinearRegression()\n",
    "linearModel.fit(df_Summer[[x for x in df_Summer.columns if x!='delivery_charges']],df_Summer['delivery_charges'])\n",
    "#4.Create a list of indexes with null values.\n",
    "index_with_null = list(df_missing_data['delivery_charges'][mask].index)\n",
    "index_with_null\n",
    "#5.Impute the values using the build inear model\n",
    "df_missing_data.loc[index_with_null,'delivery_charges']=linearModel.predict(df_missing_data[mask][['delivery_charges','distance_to_nearest_warehouse','is_expedited_delivery',\"is_happy_customer\"]].drop(['delivery_charges'],axis=1))\n",
    "\n",
    "df_missing_data.isnull().sum()"
   ]
  },
  {
   "cell_type": "markdown",
   "metadata": {},
   "source": [
    "## Winter"
   ]
  },
  {
   "cell_type": "code",
   "execution_count": null,
   "metadata": {},
   "outputs": [],
   "source": [
    "#1. Create a mask for winter and null\n",
    "mask = (df_missing_data.season=='Winter')&(df_missing_data.delivery_charges.isnull())"
   ]
  },
  {
   "cell_type": "code",
   "execution_count": null,
   "metadata": {},
   "outputs": [],
   "source": [
    "#2. Check for null values\n",
    "df_missing_data['delivery_charges'][mask]"
   ]
  },
  {
   "cell_type": "code",
   "execution_count": null,
   "metadata": {},
   "outputs": [],
   "source": [
    "#3. create and fit a linear model\n",
    "linearModel = LinearRegression()\n",
    "linearModel.fit(df_Winter[[x for x in df_Winter.columns if x!='delivery_charges']],df_Winter['delivery_charges'])\n",
    "#4.Create a list of indexes with null values.\n",
    "index_with_null = list(df_missing_data['delivery_charges'][mask].index)\n",
    "index_with_null\n",
    "#5.Impute the values using the build inear model\n",
    "df_missing_data.loc[index_with_null,'delivery_charges']=linearModel.predict(df_missing_data[mask][['delivery_charges','distance_to_nearest_warehouse','is_expedited_delivery',\"is_happy_customer\"]].drop(['delivery_charges'],axis=1))\n",
    "\n",
    "df_missing_data.isnull().sum()"
   ]
  },
  {
   "cell_type": "markdown",
   "metadata": {},
   "source": [
    "## Autumn"
   ]
  },
  {
   "cell_type": "code",
   "execution_count": null,
   "metadata": {},
   "outputs": [],
   "source": [
    "#1. Create a mask for autumn and null\n",
    "mask = (df_missing_data.season=='Autumn')&(df_missing_data.delivery_charges.isnull())"
   ]
  },
  {
   "cell_type": "code",
   "execution_count": null,
   "metadata": {},
   "outputs": [],
   "source": [
    "#2. Check for null values\n",
    "df_missing_data['delivery_charges'][mask]"
   ]
  },
  {
   "cell_type": "code",
   "execution_count": null,
   "metadata": {},
   "outputs": [],
   "source": [
    "#3. create and fit a linear model\n",
    "linearModel = LinearRegression()\n",
    "linearModel.fit(df_Autumn[[x for x in df_Autumn.columns if x!='delivery_charges']],df_Autumn['delivery_charges'])\n",
    "#4.Create a list of indexes with null values.\n",
    "index_with_null = list(df_missing_data['delivery_charges'][mask].index)\n",
    "index_with_null\n",
    "#5.Impute the values using the build inear model\n",
    "df_missing_data.loc[index_with_null,'delivery_charges']=linearModel.predict(df_missing_data[mask][['delivery_charges','distance_to_nearest_warehouse','is_expedited_delivery',\"is_happy_customer\"]].drop(['delivery_charges'],axis=1))\n",
    "\n",
    "df_missing_data.isnull().sum()"
   ]
  },
  {
   "cell_type": "markdown",
   "metadata": {},
   "source": [
    "## Spring"
   ]
  },
  {
   "cell_type": "code",
   "execution_count": null,
   "metadata": {},
   "outputs": [],
   "source": [
    "#1. Create a mask for spring and null\n",
    "mask = (df_missing_data.season=='Spring')&(df_missing_data.delivery_charges.isnull())"
   ]
  },
  {
   "cell_type": "code",
   "execution_count": null,
   "metadata": {},
   "outputs": [],
   "source": [
    "#2. Check for null values\n",
    "df_missing_data['delivery_charges'][mask]"
   ]
  },
  {
   "cell_type": "code",
   "execution_count": null,
   "metadata": {
    "scrolled": true
   },
   "outputs": [],
   "source": [
    "#3. create and fit a linear model\n",
    "linearModel = LinearRegression()\n",
    "linearModel.fit(df_Spring[[x for x in df_Spring.columns if x!='delivery_charges']],df_Spring['delivery_charges'])\n",
    "#4.Create a list of indexes with null values.\n",
    "index_with_null = list(df_missing_data['delivery_charges'][mask].index)\n",
    "index_with_null\n",
    "#5.Impute the values using the build inear model\n",
    "df_missing_data.loc[index_with_null,'delivery_charges']=linearModel.predict(df_missing_data[mask][['delivery_charges','distance_to_nearest_warehouse','is_expedited_delivery',\"is_happy_customer\"]].drop(['delivery_charges'],axis=1))\n",
    "\n",
    "df_missing_data.isnull().sum()"
   ]
  },
  {
   "cell_type": "markdown",
   "metadata": {},
   "source": [
    "<p>\n",
    "All values for delivery_charges have been imputed depending on the season and the given business rules.\n",
    "\n",
    "</p>"
   ]
  },
  {
   "cell_type": "markdown",
   "metadata": {},
   "source": [
    "## Order Total"
   ]
  },
  {
   "cell_type": "markdown",
   "metadata": {},
   "source": [
    "<p>\n",
    "Now that we have imputed the values for delivery charges, using our previously defined\n",
    "</p>"
   ]
  },
  {
   "cell_type": "code",
   "execution_count": null,
   "metadata": {},
   "outputs": [],
   "source": [
    "df_missing_data.loc[df_missing_data.order_total.isnull(),'order_total'] =\\\n",
    "df_missing_data.apply(lambda x: cal_order_total(x),axis=1)"
   ]
  },
  {
   "cell_type": "code",
   "execution_count": null,
   "metadata": {},
   "outputs": [],
   "source": [
    "df_missing_data.isnull().sum()"
   ]
  },
  {
   "cell_type": "code",
   "execution_count": null,
   "metadata": {},
   "outputs": [],
   "source": [
    "#Writing csv file\n",
    "cols = ['order_id','customer_id','date','nearest_warehouse','shopping_cart','order_price','delivery_charges','customer_lat','customer_long',\n",
    "       'coupon_discount', 'order_total', 'season', 'is_expedited_delivery',\n",
    "       'distance_to_nearest_warehouse', 'latest_customer_review',\n",
    "       'is_happy_customer']\n",
    "df_missing_data.to_csv('30539676_missing_data_solution.csv',columns=cols,index=False)"
   ]
  },
  {
   "cell_type": "markdown",
   "metadata": {},
   "source": [
    "# 4. Methodology - Outliers<a class=\"anchor\" id=\"sec_4\"></a>\n",
    "<p>\n",
    "We will be detecting outliers within our delivery_charges attributes, however since the attribute is dependent on multiple other attributes (season, whether the customer is happy or not, etc) we will be using a linear model to detect the outliers.\n",
    "    \n",
    "A linear model will be trained on the dependednt attributes. Using that model we will be plotting 2 graphs:\n",
    "* Residual plot\n",
    "* Cooks Distance plot\n",
    "\n",
    "Within these 2 plots we will be able to identify the outliers for that model. Since it is given in our specification that for each season the linear model will be different, we will be training 4 models 1 for each season. Based on these models the outliers for their respective season will be identified.\n",
    "\n",
    "Once all the outliers for each season is identified, based on their indexes we will remove the outliers from our dataframe.\n",
    "\n",
    "A brief description on how the above mentioned plots are used:\n",
    "\n",
    "* Residual plot - This plot help us determine the error rate of our model. Intuitively once we have removed the outliers form our model, the $R^2$ value should increase getting us a more accurate model.\n",
    "\n",
    "* Cooks Distance plot - this plot is used to identify the outliers. Any point beyong the threshold is condiered an outlier.\n",
    "\n",
    "</p>"
   ]
  },
  {
   "cell_type": "code",
   "execution_count": null,
   "metadata": {},
   "outputs": [],
   "source": [
    "#Attribute for the model\n",
    "cols = ['delivery_charges','distance_to_nearest_warehouse','is_expedited_delivery','is_happy_customer']"
   ]
  },
  {
   "cell_type": "code",
   "execution_count": null,
   "metadata": {},
   "outputs": [],
   "source": [
    "#Converting our categorical feature into numeric feature\n",
    "df_outlier_data['is_expedited_delivery']=df_outlier_data['is_expedited_delivery'].apply(lambda x: 1 if x is True else 0)\n",
    "df_outlier_data['is_happy_customer']=df_outlier_data['is_happy_customer'].apply(lambda x: 1 if x is True else 0)"
   ]
  },
  {
   "cell_type": "markdown",
   "metadata": {},
   "source": [
    "# spring"
   ]
  },
  {
   "cell_type": "code",
   "execution_count": null,
   "metadata": {},
   "outputs": [],
   "source": [
    "#Create linear model\n",
    "linearModel = LinearRegression()\n",
    "#Select the season\n",
    "mask = df_outlier_data['season']=='Spring'\n",
    "#Create a residual plot\n",
    "visualizer_residuals = ResidualsPlot(linearModel)\\\n",
    "#Fit the model\n",
    "visualizer_residuals.fit(df_outlier_data[mask][[x for x in cols if x!='delivery_charges']],df_outlier_data[mask]['delivery_charges'])\n",
    "visualizer_residuals.show()"
   ]
  },
  {
   "cell_type": "markdown",
   "metadata": {},
   "source": [
    "<p>\n",
    "We can see that there are multiple ourliers within the dataset.\n",
    "    \n",
    "One thing to note for all residual plot is that they are almost symetric about the origin, while having high density of points near the origin and low density beyond the origin.\n",
    "</p>"
   ]
  },
  {
   "cell_type": "code",
   "execution_count": null,
   "metadata": {},
   "outputs": [],
   "source": [
    "#Cooks distance\n",
    "visualizer_residuals = CooksDistance()\n",
    "#Select season\n",
    "mask = df_outlier_data['season']=='Spring'\n",
    "#Fitting the model\n",
    "visualizer_residuals.fit(df_outlier_data[mask][[x for x in cols if x!='delivery_charges']],df_outlier_data[mask]['delivery_charges'])\n",
    "visualizer_residuals.show()"
   ]
  },
  {
   "cell_type": "code",
   "execution_count": null,
   "metadata": {},
   "outputs": [],
   "source": [
    "#Data points index beyond the threshold(0.03)\n",
    "i_less_influential = (visualizer_residuals.distance_ <= 0.03)\n",
    "#Select season\n",
    "mask = df_outlier_data['season']=='Spring'\n",
    "#Get X and Y values accoridng the split. Here X_li_Spring our the values to be kept \n",
    "X_li_spring, y_li_spring = df_outlier_data[mask][[x for x in cols if x!='delivery_charges']][i_less_influential], df_outlier_data[mask]['delivery_charges'][i_less_influential]\n",
    "#Create model\n",
    "model = LinearRegression()\n",
    "#Create residual plot\n",
    "visualizer_residuals = ResidualsPlot(model)\n",
    "visualizer_residuals.fit(X_li_spring, y_li_spring)\n",
    "visualizer_residuals.show()"
   ]
  },
  {
   "cell_type": "markdown",
   "metadata": {},
   "source": [
    "# Autumn"
   ]
  },
  {
   "cell_type": "code",
   "execution_count": null,
   "metadata": {},
   "outputs": [],
   "source": [
    "#Create model\n",
    "linearModel = LinearRegression()\n",
    "#Select season\n",
    "mask = df_outlier_data['season']=='Autumn'\n",
    "#Create a residual plot\n",
    "visualizer_residuals = ResidualsPlot(linearModel)\n",
    "#Fit the model\n",
    "visualizer_residuals.fit(df_outlier_data[mask][[x for x in cols if x!='delivery_charges']],df_outlier_data[mask]['delivery_charges'])\n",
    "visualizer_residuals.show()"
   ]
  },
  {
   "cell_type": "code",
   "execution_count": null,
   "metadata": {},
   "outputs": [],
   "source": [
    "#Cooks distance\n",
    "visualizer_residuals = CooksDistance()\n",
    "#Select season\n",
    "mask = df_outlier_data['season']=='Autumn'\n",
    "#Fit the model\n",
    "visualizer_residuals.fit(df_outlier_data[mask][[x for x in cols if x!='delivery_charges']],df_outlier_data[mask]['delivery_charges'])\n",
    "visualizer_residuals.show()"
   ]
  },
  {
   "cell_type": "code",
   "execution_count": null,
   "metadata": {},
   "outputs": [],
   "source": [
    "#Data points index beyond the threshold(0.04)\n",
    "i_less_influential = (visualizer_residuals.distance_ <= 0.04)\n",
    "#Select season\n",
    "mask = df_outlier_data['season']=='Autumn'\n",
    "#Get X and Y values accoridng the split. Here X_li_autumn our the values to be kept\n",
    "X_li_autumn, y_li_autumn = df_outlier_data[mask][[x for x in cols if x!='delivery_charges']][i_less_influential], df_outlier_data[mask]['delivery_charges'][i_less_influential]\n",
    "#Create model\n",
    "model = LinearRegression()\n",
    "#Create residual plot\n",
    "visualizer_residuals = ResidualsPlot(model)\n",
    "visualizer_residuals.fit(X_li_autumn, y_li_autumn)\n",
    "visualizer_residuals.show()"
   ]
  },
  {
   "cell_type": "markdown",
   "metadata": {},
   "source": [
    "# Winter"
   ]
  },
  {
   "cell_type": "code",
   "execution_count": null,
   "metadata": {},
   "outputs": [],
   "source": [
    "#Create model\n",
    "linearModel = LinearRegression()\n",
    "#Select season\n",
    "mask = df_outlier_data['season']=='Winter'\n",
    "#Create model\n",
    "visualizer_residuals = ResidualsPlot(linearModel)\n",
    "#Fit the model\n",
    "visualizer_residuals.fit(df_outlier_data[mask][[x for x in cols if x!='delivery_charges']],df_outlier_data[mask]['delivery_charges'])\n",
    "visualizer_residuals.show()"
   ]
  },
  {
   "cell_type": "code",
   "execution_count": null,
   "metadata": {},
   "outputs": [],
   "source": [
    "#Cooks distance\n",
    "visualizer_residuals = CooksDistance()\n",
    "#Select season\n",
    "mask = df_outlier_data['season']=='Winter'\n",
    "#Fit the model\n",
    "visualizer_residuals.fit(df_outlier_data[mask][[x for x in cols if x!='delivery_charges']],df_outlier_data[mask]['delivery_charges'])\n",
    "visualizer_residuals.show()"
   ]
  },
  {
   "cell_type": "code",
   "execution_count": null,
   "metadata": {},
   "outputs": [],
   "source": [
    "#Data points index beyond the threshold(0.03)\n",
    "i_less_influential = (visualizer_residuals.distance_ <= 0.03)\n",
    "#Select season\n",
    "mask = df_outlier_data['season']=='Winter'\n",
    "#Get X and Y values accoridng the split. Here X_li_winter our the values to be kept\n",
    "X_li_winter, y_li_winter = df_outlier_data[mask][[x for x in cols if x!='delivery_charges']][i_less_influential], df_outlier_data[mask]['delivery_charges'][i_less_influential]\n",
    "#Create model\n",
    "model = LinearRegression()\n",
    "#Create residual plot\n",
    "visualizer_residuals = ResidualsPlot(model)\n",
    "visualizer_residuals.fit(X_li_winter, y_li_winter)\n",
    "visualizer_residuals.show()"
   ]
  },
  {
   "cell_type": "markdown",
   "metadata": {},
   "source": [
    "# Summer"
   ]
  },
  {
   "cell_type": "code",
   "execution_count": null,
   "metadata": {},
   "outputs": [],
   "source": [
    "#Create model\n",
    "linearModel = LinearRegression()\n",
    "#Select season\n",
    "mask = df_outlier_data['season']=='Summer'\n",
    "#Create model\n",
    "visualizer_residuals = ResidualsPlot(linearModel)\n",
    "#Fit the model\n",
    "visualizer_residuals.fit(df_outlier_data[mask][[x for x in cols if x!='delivery_charges']],df_outlier_data[mask]['delivery_charges'])\n",
    "visualizer_residuals.show()"
   ]
  },
  {
   "cell_type": "code",
   "execution_count": null,
   "metadata": {},
   "outputs": [],
   "source": [
    "#Cooks distance\n",
    "visualizer_residuals = CooksDistance()\n",
    "#Select season\n",
    "mask = df_outlier_data['season']=='Summer'\n",
    "#Fit the model\n",
    "visualizer_residuals.fit(df_outlier_data[mask][[x for x in cols if x!='delivery_charges']],df_outlier_data[mask]['delivery_charges'])\n",
    "visualizer_residuals.show()"
   ]
  },
  {
   "cell_type": "code",
   "execution_count": null,
   "metadata": {},
   "outputs": [],
   "source": [
    "#Data points index beyond the threshold(0.03)\n",
    "i_less_influential = (visualizer_residuals.distance_ <= 0.03)\n",
    "#Select season\n",
    "mask = df_outlier_data['season']=='Summer'\n",
    "#Get X and Y values accoridng the split. Here X_li_summer our the values to be kept\n",
    "X_li_summer, y_li_summer = df_outlier_data[mask][[x for x in cols if x!='delivery_charges']][i_less_influential], df_outlier_data[mask]['delivery_charges'][i_less_influential]\n",
    "#Create model\n",
    "model = LinearRegression()\n",
    "#Create residual plot\n",
    "visualizer_residuals = ResidualsPlot(model)\n",
    "visualizer_residuals.fit(X_li_summer, y_li_summer)\n",
    "visualizer_residuals.show()"
   ]
  },
  {
   "cell_type": "markdown",
   "metadata": {},
   "source": [
    "<p>\n",
    "For each of the above models, we will be keepeing the X_li split of the model. This contains the all the datapoints minus the outliers. \n",
    "\n",
    "</p>"
   ]
  },
  {
   "cell_type": "code",
   "execution_count": null,
   "metadata": {},
   "outputs": [],
   "source": [
    "#Create a list of indexes to keep\n",
    "to_keep_index = list(X_li_spring.index)+list(X_li_autumn.index)+list(X_li_summer.index)+list(X_li_winter.index)\n",
    "#Keep only the above index\n",
    "df_outlier_data=df_outlier_data.iloc[to_keep_index]"
   ]
  },
  {
   "cell_type": "code",
   "execution_count": null,
   "metadata": {},
   "outputs": [],
   "source": [
    "#Reverting to original format\n",
    "df_outlier_data['is_expedited_delivery']=df_outlier_data['is_expedited_delivery'].apply(lambda x: True if x is 1 else False)\n",
    "df_outlier_data['is_happy_customer']=df_outlier_data['is_happy_customer'].apply(lambda x: True if x is 1 else False)"
   ]
  },
  {
   "cell_type": "code",
   "execution_count": null,
   "metadata": {},
   "outputs": [],
   "source": [
    "#Writing csv file\n",
    "cols = ['order_id','customer_id','date','nearest_warehouse','shopping_cart','order_price','delivery_charges','customer_lat','customer_long',\n",
    "       'coupon_discount', 'order_total', 'season', 'is_expedited_delivery',\n",
    "       'distance_to_nearest_warehouse', 'latest_customer_review',\n",
    "       'is_happy_customer']\n",
    "df_outlier_data.to_csv('30539676_outlier_data_solution.csv',columns=cols,index=False)"
   ]
  },
  {
   "cell_type": "markdown",
   "metadata": {},
   "source": [
    "# 5. Summary<a class=\"anchor\" id=\"sec_5\"></a>\n",
    "<p>\n",
    "\n",
    "In conclusion the following things have veen completed :\n",
    "    * Dirt data - All data anamolies have been identified and corrected.\n",
    "    * Missing data - All missing values have been filled in.\n",
    "    * Outlier data - All outliers have been identified and removed.\n",
    "\n",
    "* <b>Dirty Data</b>: All lexical, semantical and syntactical errros have been found and then removed from the dataset as per our assignment specification.\n",
    "* <b>Missing Data</b>: All the null values within out column have been imputed. They are either calculated using other attributes or using a linear regression model.\n",
    "* <b>Outlier Data</b>: THe outlier from delivery_charges are removed by using cooks distance & residual plots.\n",
    "\n",
    "</p>"
   ]
  },
  {
   "cell_type": "markdown",
   "metadata": {},
   "source": [
    "# 6. References<a class=\"anchor\" id=\"sec_6\"></a>\n",
    "\n",
    "Rakesh (2018, August 13). Change dd-mm-yyyy date format of dataframe date column to yyyy-mm-dd. \\\n",
    "Retrieved from: https://stackoverflow.com/questions/51822956/change-dd-mm-yyyy-date-format-of-dataframe-date-column-to-yyyy-mm-dd\n",
    "\n",
    "Dario Radečić (2020, April 14). Here’s How To Calculate Distance Between 2 Geolocations in Python \\\n",
    "Retrived from: https://towardsdatascience.com/heres-how-to-calculate-distance-between-2-geolocations-in-python-93ecab5bbba4\n",
    "\n",
    "The SciPy community(2020, June 29). numpy.linalg.solve \\\n",
    "Retrieved from: https://numpy.org/doc/stable/reference/generated/numpy.linalg.solve.html#numpy.linalg.solve\n",
    "\n",
    "NLTK Project.(2020, April 13). nltk.sentiment package \\\n",
    "Retrieved from: https://www.nltk.org/api/nltk.sentiment.html#nltk.sentiment.vader.SentimentIntensityAnalyzer.score_valence\n",
    "\n",
    "Pandas Documentation (2020, October 05). Pandas Documentation \\\n",
    "Retrieved from: https://pandas.pydata.org/docs/"
   ]
  }
 ],
 "metadata": {
  "kernelspec": {
   "display_name": "Python 3",
   "language": "python",
   "name": "python3"
  },
  "language_info": {
   "codemirror_mode": {
    "name": "ipython",
    "version": 3
   },
   "file_extension": ".py",
   "mimetype": "text/x-python",
   "name": "python",
   "nbconvert_exporter": "python",
   "pygments_lexer": "ipython3",
   "version": "3.8.5"
  }
 },
 "nbformat": 4,
 "nbformat_minor": 2
}
